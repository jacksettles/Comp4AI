{
 "cells": [
  {
   "cell_type": "code",
   "execution_count": 1,
   "id": "6afded03",
   "metadata": {},
   "outputs": [],
   "source": [
    "import numpy as np\n",
    "import torch\n",
    "import torchvision.datasets\n",
    "import torchvision.models as models\n",
    "from torchvision.models import resnet50, ResNet50_Weights\n",
    "import torch.nn as nn\n",
    "import torch.nn.functional as F\n",
    "from torch.utils.data import DataLoader, Dataset\n",
    "from sklearn.model_selection import train_test_split\n",
    "import torch.utils.data as Data\n",
    "from torchvision.utils import save_image\n",
    "import torch.optim as optim\n",
    "from PIL import Image\n",
    "import torchvision.transforms as transforms\n",
    "import matplotlib.pyplot as plt\n",
    "import os\n",
    "from collections import Counter\n",
    "import glob\n",
    "import thop\n",
    "import math"
   ]
  },
  {
   "cell_type": "code",
   "execution_count": 2,
   "id": "6e365e41",
   "metadata": {},
   "outputs": [
    {
     "name": "stdout",
     "output_type": "stream",
     "text": [
      "CUDA is available. Using GPU.\n"
     ]
    }
   ],
   "source": [
    "if torch.cuda.is_available():\n",
    "    # CUDA is available, you can proceed to use it\n",
    "    device = torch.device('cuda')\n",
    "    print('CUDA is available. Using GPU.')\n",
    "else:\n",
    "    # CUDA is not available, use CPU\n",
    "    device = torch.device('cpu')\n",
    "    print('CUDA is not available. Using CPU.')"
   ]
  },
  {
   "cell_type": "markdown",
   "id": "9563e085",
   "metadata": {},
   "source": [
    "# Practice getting feature maps on CIFAR10"
   ]
  },
  {
   "cell_type": "code",
   "execution_count": 3,
   "id": "5d1fa512",
   "metadata": {},
   "outputs": [
    {
     "name": "stdout",
     "output_type": "stream",
     "text": [
      "Files already downloaded and verified\n",
      "Files already downloaded and verified\n"
     ]
    }
   ],
   "source": [
    "# ----------------- prepare training data -----------------------\n",
    "train_data = torchvision.datasets.CIFAR10(\n",
    "    root='./data.cifar10',\n",
    "    train=True,\n",
    "    transform=torchvision.transforms.ToTensor(),\n",
    "    download=True\n",
    ")\n",
    "\n",
    "# ----------------- prepare testing data -----------------------\n",
    "test_data = torchvision.datasets.CIFAR10(\n",
    "    root='./data.cifar10/',\n",
    "    train=False,\n",
    "    transform=torchvision.transforms.ToTensor(),\n",
    "    download=True)"
   ]
  },
  {
   "cell_type": "code",
   "execution_count": 4,
   "id": "64c3be9b",
   "metadata": {},
   "outputs": [],
   "source": [
    "# Make DataLoaders for the training and test data, with a batch size of 64\n",
    "train_loader = Data.DataLoader(dataset=train_data, batch_size=64, shuffle=True)\n",
    "test_loader = Data.DataLoader(dataset=test_data, batch_size=64, shuffle=False)"
   ]
  },
  {
   "cell_type": "code",
   "execution_count": 5,
   "id": "a8f0f5fb",
   "metadata": {},
   "outputs": [],
   "source": [
    "class_dict = {0: \"airplane\", 1:\"automobile\", 2:\"bird\", 3:\"cat\", 4:\"deer\", 5:\"dog\", 6:\"frog\", 7:\"horse\", 8:\"ship\", 9:\"truck\"}"
   ]
  },
  {
   "cell_type": "code",
   "execution_count": 3,
   "id": "86c2af76",
   "metadata": {},
   "outputs": [],
   "source": [
    "resnet_transform = transforms.Compose([\n",
    "    transforms.ToTensor(),\n",
    "    transforms.Normalize((0.4914, 0.4822, 0.4465), (0.2023, 0.1994, 0.2010)),\n",
    "    transforms.Resize((256,256))])"
   ]
  },
  {
   "cell_type": "markdown",
   "id": "ee0a2b9c",
   "metadata": {},
   "source": [
    "# ResNet-50 model; hook the feature maps after the max pooling"
   ]
  },
  {
   "cell_type": "code",
   "execution_count": 4,
   "id": "95a7230d",
   "metadata": {},
   "outputs": [],
   "source": [
    "resnet = resnet50(weights=ResNet50_Weights.DEFAULT)"
   ]
  },
  {
   "cell_type": "code",
   "execution_count": 5,
   "id": "f7fe047b",
   "metadata": {},
   "outputs": [
    {
     "data": {
      "text/plain": [
       "ResNet(\n",
       "  (conv1): Conv2d(3, 64, kernel_size=(7, 7), stride=(2, 2), padding=(3, 3), bias=False)\n",
       "  (bn1): BatchNorm2d(64, eps=1e-05, momentum=0.1, affine=True, track_running_stats=True)\n",
       "  (relu): ReLU(inplace=True)\n",
       "  (maxpool): MaxPool2d(kernel_size=3, stride=2, padding=1, dilation=1, ceil_mode=False)\n",
       "  (layer1): Sequential(\n",
       "    (0): Bottleneck(\n",
       "      (conv1): Conv2d(64, 64, kernel_size=(1, 1), stride=(1, 1), bias=False)\n",
       "      (bn1): BatchNorm2d(64, eps=1e-05, momentum=0.1, affine=True, track_running_stats=True)\n",
       "      (conv2): Conv2d(64, 64, kernel_size=(3, 3), stride=(1, 1), padding=(1, 1), bias=False)\n",
       "      (bn2): BatchNorm2d(64, eps=1e-05, momentum=0.1, affine=True, track_running_stats=True)\n",
       "      (conv3): Conv2d(64, 256, kernel_size=(1, 1), stride=(1, 1), bias=False)\n",
       "      (bn3): BatchNorm2d(256, eps=1e-05, momentum=0.1, affine=True, track_running_stats=True)\n",
       "      (relu): ReLU(inplace=True)\n",
       "      (downsample): Sequential(\n",
       "        (0): Conv2d(64, 256, kernel_size=(1, 1), stride=(1, 1), bias=False)\n",
       "        (1): BatchNorm2d(256, eps=1e-05, momentum=0.1, affine=True, track_running_stats=True)\n",
       "      )\n",
       "    )\n",
       "    (1): Bottleneck(\n",
       "      (conv1): Conv2d(256, 64, kernel_size=(1, 1), stride=(1, 1), bias=False)\n",
       "      (bn1): BatchNorm2d(64, eps=1e-05, momentum=0.1, affine=True, track_running_stats=True)\n",
       "      (conv2): Conv2d(64, 64, kernel_size=(3, 3), stride=(1, 1), padding=(1, 1), bias=False)\n",
       "      (bn2): BatchNorm2d(64, eps=1e-05, momentum=0.1, affine=True, track_running_stats=True)\n",
       "      (conv3): Conv2d(64, 256, kernel_size=(1, 1), stride=(1, 1), bias=False)\n",
       "      (bn3): BatchNorm2d(256, eps=1e-05, momentum=0.1, affine=True, track_running_stats=True)\n",
       "      (relu): ReLU(inplace=True)\n",
       "    )\n",
       "    (2): Bottleneck(\n",
       "      (conv1): Conv2d(256, 64, kernel_size=(1, 1), stride=(1, 1), bias=False)\n",
       "      (bn1): BatchNorm2d(64, eps=1e-05, momentum=0.1, affine=True, track_running_stats=True)\n",
       "      (conv2): Conv2d(64, 64, kernel_size=(3, 3), stride=(1, 1), padding=(1, 1), bias=False)\n",
       "      (bn2): BatchNorm2d(64, eps=1e-05, momentum=0.1, affine=True, track_running_stats=True)\n",
       "      (conv3): Conv2d(64, 256, kernel_size=(1, 1), stride=(1, 1), bias=False)\n",
       "      (bn3): BatchNorm2d(256, eps=1e-05, momentum=0.1, affine=True, track_running_stats=True)\n",
       "      (relu): ReLU(inplace=True)\n",
       "    )\n",
       "  )\n",
       "  (layer2): Sequential(\n",
       "    (0): Bottleneck(\n",
       "      (conv1): Conv2d(256, 128, kernel_size=(1, 1), stride=(1, 1), bias=False)\n",
       "      (bn1): BatchNorm2d(128, eps=1e-05, momentum=0.1, affine=True, track_running_stats=True)\n",
       "      (conv2): Conv2d(128, 128, kernel_size=(3, 3), stride=(2, 2), padding=(1, 1), bias=False)\n",
       "      (bn2): BatchNorm2d(128, eps=1e-05, momentum=0.1, affine=True, track_running_stats=True)\n",
       "      (conv3): Conv2d(128, 512, kernel_size=(1, 1), stride=(1, 1), bias=False)\n",
       "      (bn3): BatchNorm2d(512, eps=1e-05, momentum=0.1, affine=True, track_running_stats=True)\n",
       "      (relu): ReLU(inplace=True)\n",
       "      (downsample): Sequential(\n",
       "        (0): Conv2d(256, 512, kernel_size=(1, 1), stride=(2, 2), bias=False)\n",
       "        (1): BatchNorm2d(512, eps=1e-05, momentum=0.1, affine=True, track_running_stats=True)\n",
       "      )\n",
       "    )\n",
       "    (1): Bottleneck(\n",
       "      (conv1): Conv2d(512, 128, kernel_size=(1, 1), stride=(1, 1), bias=False)\n",
       "      (bn1): BatchNorm2d(128, eps=1e-05, momentum=0.1, affine=True, track_running_stats=True)\n",
       "      (conv2): Conv2d(128, 128, kernel_size=(3, 3), stride=(1, 1), padding=(1, 1), bias=False)\n",
       "      (bn2): BatchNorm2d(128, eps=1e-05, momentum=0.1, affine=True, track_running_stats=True)\n",
       "      (conv3): Conv2d(128, 512, kernel_size=(1, 1), stride=(1, 1), bias=False)\n",
       "      (bn3): BatchNorm2d(512, eps=1e-05, momentum=0.1, affine=True, track_running_stats=True)\n",
       "      (relu): ReLU(inplace=True)\n",
       "    )\n",
       "    (2): Bottleneck(\n",
       "      (conv1): Conv2d(512, 128, kernel_size=(1, 1), stride=(1, 1), bias=False)\n",
       "      (bn1): BatchNorm2d(128, eps=1e-05, momentum=0.1, affine=True, track_running_stats=True)\n",
       "      (conv2): Conv2d(128, 128, kernel_size=(3, 3), stride=(1, 1), padding=(1, 1), bias=False)\n",
       "      (bn2): BatchNorm2d(128, eps=1e-05, momentum=0.1, affine=True, track_running_stats=True)\n",
       "      (conv3): Conv2d(128, 512, kernel_size=(1, 1), stride=(1, 1), bias=False)\n",
       "      (bn3): BatchNorm2d(512, eps=1e-05, momentum=0.1, affine=True, track_running_stats=True)\n",
       "      (relu): ReLU(inplace=True)\n",
       "    )\n",
       "    (3): Bottleneck(\n",
       "      (conv1): Conv2d(512, 128, kernel_size=(1, 1), stride=(1, 1), bias=False)\n",
       "      (bn1): BatchNorm2d(128, eps=1e-05, momentum=0.1, affine=True, track_running_stats=True)\n",
       "      (conv2): Conv2d(128, 128, kernel_size=(3, 3), stride=(1, 1), padding=(1, 1), bias=False)\n",
       "      (bn2): BatchNorm2d(128, eps=1e-05, momentum=0.1, affine=True, track_running_stats=True)\n",
       "      (conv3): Conv2d(128, 512, kernel_size=(1, 1), stride=(1, 1), bias=False)\n",
       "      (bn3): BatchNorm2d(512, eps=1e-05, momentum=0.1, affine=True, track_running_stats=True)\n",
       "      (relu): ReLU(inplace=True)\n",
       "    )\n",
       "  )\n",
       "  (layer3): Sequential(\n",
       "    (0): Bottleneck(\n",
       "      (conv1): Conv2d(512, 256, kernel_size=(1, 1), stride=(1, 1), bias=False)\n",
       "      (bn1): BatchNorm2d(256, eps=1e-05, momentum=0.1, affine=True, track_running_stats=True)\n",
       "      (conv2): Conv2d(256, 256, kernel_size=(3, 3), stride=(2, 2), padding=(1, 1), bias=False)\n",
       "      (bn2): BatchNorm2d(256, eps=1e-05, momentum=0.1, affine=True, track_running_stats=True)\n",
       "      (conv3): Conv2d(256, 1024, kernel_size=(1, 1), stride=(1, 1), bias=False)\n",
       "      (bn3): BatchNorm2d(1024, eps=1e-05, momentum=0.1, affine=True, track_running_stats=True)\n",
       "      (relu): ReLU(inplace=True)\n",
       "      (downsample): Sequential(\n",
       "        (0): Conv2d(512, 1024, kernel_size=(1, 1), stride=(2, 2), bias=False)\n",
       "        (1): BatchNorm2d(1024, eps=1e-05, momentum=0.1, affine=True, track_running_stats=True)\n",
       "      )\n",
       "    )\n",
       "    (1): Bottleneck(\n",
       "      (conv1): Conv2d(1024, 256, kernel_size=(1, 1), stride=(1, 1), bias=False)\n",
       "      (bn1): BatchNorm2d(256, eps=1e-05, momentum=0.1, affine=True, track_running_stats=True)\n",
       "      (conv2): Conv2d(256, 256, kernel_size=(3, 3), stride=(1, 1), padding=(1, 1), bias=False)\n",
       "      (bn2): BatchNorm2d(256, eps=1e-05, momentum=0.1, affine=True, track_running_stats=True)\n",
       "      (conv3): Conv2d(256, 1024, kernel_size=(1, 1), stride=(1, 1), bias=False)\n",
       "      (bn3): BatchNorm2d(1024, eps=1e-05, momentum=0.1, affine=True, track_running_stats=True)\n",
       "      (relu): ReLU(inplace=True)\n",
       "    )\n",
       "    (2): Bottleneck(\n",
       "      (conv1): Conv2d(1024, 256, kernel_size=(1, 1), stride=(1, 1), bias=False)\n",
       "      (bn1): BatchNorm2d(256, eps=1e-05, momentum=0.1, affine=True, track_running_stats=True)\n",
       "      (conv2): Conv2d(256, 256, kernel_size=(3, 3), stride=(1, 1), padding=(1, 1), bias=False)\n",
       "      (bn2): BatchNorm2d(256, eps=1e-05, momentum=0.1, affine=True, track_running_stats=True)\n",
       "      (conv3): Conv2d(256, 1024, kernel_size=(1, 1), stride=(1, 1), bias=False)\n",
       "      (bn3): BatchNorm2d(1024, eps=1e-05, momentum=0.1, affine=True, track_running_stats=True)\n",
       "      (relu): ReLU(inplace=True)\n",
       "    )\n",
       "    (3): Bottleneck(\n",
       "      (conv1): Conv2d(1024, 256, kernel_size=(1, 1), stride=(1, 1), bias=False)\n",
       "      (bn1): BatchNorm2d(256, eps=1e-05, momentum=0.1, affine=True, track_running_stats=True)\n",
       "      (conv2): Conv2d(256, 256, kernel_size=(3, 3), stride=(1, 1), padding=(1, 1), bias=False)\n",
       "      (bn2): BatchNorm2d(256, eps=1e-05, momentum=0.1, affine=True, track_running_stats=True)\n",
       "      (conv3): Conv2d(256, 1024, kernel_size=(1, 1), stride=(1, 1), bias=False)\n",
       "      (bn3): BatchNorm2d(1024, eps=1e-05, momentum=0.1, affine=True, track_running_stats=True)\n",
       "      (relu): ReLU(inplace=True)\n",
       "    )\n",
       "    (4): Bottleneck(\n",
       "      (conv1): Conv2d(1024, 256, kernel_size=(1, 1), stride=(1, 1), bias=False)\n",
       "      (bn1): BatchNorm2d(256, eps=1e-05, momentum=0.1, affine=True, track_running_stats=True)\n",
       "      (conv2): Conv2d(256, 256, kernel_size=(3, 3), stride=(1, 1), padding=(1, 1), bias=False)\n",
       "      (bn2): BatchNorm2d(256, eps=1e-05, momentum=0.1, affine=True, track_running_stats=True)\n",
       "      (conv3): Conv2d(256, 1024, kernel_size=(1, 1), stride=(1, 1), bias=False)\n",
       "      (bn3): BatchNorm2d(1024, eps=1e-05, momentum=0.1, affine=True, track_running_stats=True)\n",
       "      (relu): ReLU(inplace=True)\n",
       "    )\n",
       "    (5): Bottleneck(\n",
       "      (conv1): Conv2d(1024, 256, kernel_size=(1, 1), stride=(1, 1), bias=False)\n",
       "      (bn1): BatchNorm2d(256, eps=1e-05, momentum=0.1, affine=True, track_running_stats=True)\n",
       "      (conv2): Conv2d(256, 256, kernel_size=(3, 3), stride=(1, 1), padding=(1, 1), bias=False)\n",
       "      (bn2): BatchNorm2d(256, eps=1e-05, momentum=0.1, affine=True, track_running_stats=True)\n",
       "      (conv3): Conv2d(256, 1024, kernel_size=(1, 1), stride=(1, 1), bias=False)\n",
       "      (bn3): BatchNorm2d(1024, eps=1e-05, momentum=0.1, affine=True, track_running_stats=True)\n",
       "      (relu): ReLU(inplace=True)\n",
       "    )\n",
       "  )\n",
       "  (layer4): Sequential(\n",
       "    (0): Bottleneck(\n",
       "      (conv1): Conv2d(1024, 512, kernel_size=(1, 1), stride=(1, 1), bias=False)\n",
       "      (bn1): BatchNorm2d(512, eps=1e-05, momentum=0.1, affine=True, track_running_stats=True)\n",
       "      (conv2): Conv2d(512, 512, kernel_size=(3, 3), stride=(2, 2), padding=(1, 1), bias=False)\n",
       "      (bn2): BatchNorm2d(512, eps=1e-05, momentum=0.1, affine=True, track_running_stats=True)\n",
       "      (conv3): Conv2d(512, 2048, kernel_size=(1, 1), stride=(1, 1), bias=False)\n",
       "      (bn3): BatchNorm2d(2048, eps=1e-05, momentum=0.1, affine=True, track_running_stats=True)\n",
       "      (relu): ReLU(inplace=True)\n",
       "      (downsample): Sequential(\n",
       "        (0): Conv2d(1024, 2048, kernel_size=(1, 1), stride=(2, 2), bias=False)\n",
       "        (1): BatchNorm2d(2048, eps=1e-05, momentum=0.1, affine=True, track_running_stats=True)\n",
       "      )\n",
       "    )\n",
       "    (1): Bottleneck(\n",
       "      (conv1): Conv2d(2048, 512, kernel_size=(1, 1), stride=(1, 1), bias=False)\n",
       "      (bn1): BatchNorm2d(512, eps=1e-05, momentum=0.1, affine=True, track_running_stats=True)\n",
       "      (conv2): Conv2d(512, 512, kernel_size=(3, 3), stride=(1, 1), padding=(1, 1), bias=False)\n",
       "      (bn2): BatchNorm2d(512, eps=1e-05, momentum=0.1, affine=True, track_running_stats=True)\n",
       "      (conv3): Conv2d(512, 2048, kernel_size=(1, 1), stride=(1, 1), bias=False)\n",
       "      (bn3): BatchNorm2d(2048, eps=1e-05, momentum=0.1, affine=True, track_running_stats=True)\n",
       "      (relu): ReLU(inplace=True)\n",
       "    )\n",
       "    (2): Bottleneck(\n",
       "      (conv1): Conv2d(2048, 512, kernel_size=(1, 1), stride=(1, 1), bias=False)\n",
       "      (bn1): BatchNorm2d(512, eps=1e-05, momentum=0.1, affine=True, track_running_stats=True)\n",
       "      (conv2): Conv2d(512, 512, kernel_size=(3, 3), stride=(1, 1), padding=(1, 1), bias=False)\n",
       "      (bn2): BatchNorm2d(512, eps=1e-05, momentum=0.1, affine=True, track_running_stats=True)\n",
       "      (conv3): Conv2d(512, 2048, kernel_size=(1, 1), stride=(1, 1), bias=False)\n",
       "      (bn3): BatchNorm2d(2048, eps=1e-05, momentum=0.1, affine=True, track_running_stats=True)\n",
       "      (relu): ReLU(inplace=True)\n",
       "    )\n",
       "  )\n",
       "  (avgpool): AdaptiveAvgPool2d(output_size=(1, 1))\n",
       "  (fc): Linear(in_features=2048, out_features=1000, bias=True)\n",
       ")"
      ]
     },
     "execution_count": 5,
     "metadata": {},
     "output_type": "execute_result"
    }
   ],
   "source": [
    "resnet.eval()"
   ]
  },
  {
   "cell_type": "code",
   "execution_count": 1,
   "id": "4b6b9b6d",
   "metadata": {},
   "outputs": [
    {
     "ename": "NameError",
     "evalue": "name 'nn' is not defined",
     "output_type": "error",
     "traceback": [
      "\u001b[0;31m---------------------------------------------------------------------------\u001b[0m",
      "\u001b[0;31mNameError\u001b[0m                                 Traceback (most recent call last)",
      "Cell \u001b[0;32mIn [1], line 2\u001b[0m\n\u001b[1;32m      1\u001b[0m num_classes \u001b[38;5;241m=\u001b[39m \u001b[38;5;241m10\u001b[39m\n\u001b[0;32m----> 2\u001b[0m resnet\u001b[38;5;241m.\u001b[39mfc \u001b[38;5;241m=\u001b[39m \u001b[43mnn\u001b[49m\u001b[38;5;241m.\u001b[39mLinear(\u001b[38;5;241m2048\u001b[39m, num_classes)\n",
      "\u001b[0;31mNameError\u001b[0m: name 'nn' is not defined"
     ]
    }
   ],
   "source": [
    "num_classes = 10\n",
    "resnet.fc = nn.Linear(2048, num_classes)"
   ]
  },
  {
   "cell_type": "code",
   "execution_count": 7,
   "id": "6d2bffce",
   "metadata": {},
   "outputs": [
    {
     "data": {
      "text/plain": [
       "ResNet(\n",
       "  (conv1): Conv2d(3, 64, kernel_size=(7, 7), stride=(2, 2), padding=(3, 3), bias=False)\n",
       "  (bn1): BatchNorm2d(64, eps=1e-05, momentum=0.1, affine=True, track_running_stats=True)\n",
       "  (relu): ReLU(inplace=True)\n",
       "  (maxpool): MaxPool2d(kernel_size=3, stride=2, padding=1, dilation=1, ceil_mode=False)\n",
       "  (layer1): Sequential(\n",
       "    (0): Bottleneck(\n",
       "      (conv1): Conv2d(64, 64, kernel_size=(1, 1), stride=(1, 1), bias=False)\n",
       "      (bn1): BatchNorm2d(64, eps=1e-05, momentum=0.1, affine=True, track_running_stats=True)\n",
       "      (conv2): Conv2d(64, 64, kernel_size=(3, 3), stride=(1, 1), padding=(1, 1), bias=False)\n",
       "      (bn2): BatchNorm2d(64, eps=1e-05, momentum=0.1, affine=True, track_running_stats=True)\n",
       "      (conv3): Conv2d(64, 256, kernel_size=(1, 1), stride=(1, 1), bias=False)\n",
       "      (bn3): BatchNorm2d(256, eps=1e-05, momentum=0.1, affine=True, track_running_stats=True)\n",
       "      (relu): ReLU(inplace=True)\n",
       "      (downsample): Sequential(\n",
       "        (0): Conv2d(64, 256, kernel_size=(1, 1), stride=(1, 1), bias=False)\n",
       "        (1): BatchNorm2d(256, eps=1e-05, momentum=0.1, affine=True, track_running_stats=True)\n",
       "      )\n",
       "    )\n",
       "    (1): Bottleneck(\n",
       "      (conv1): Conv2d(256, 64, kernel_size=(1, 1), stride=(1, 1), bias=False)\n",
       "      (bn1): BatchNorm2d(64, eps=1e-05, momentum=0.1, affine=True, track_running_stats=True)\n",
       "      (conv2): Conv2d(64, 64, kernel_size=(3, 3), stride=(1, 1), padding=(1, 1), bias=False)\n",
       "      (bn2): BatchNorm2d(64, eps=1e-05, momentum=0.1, affine=True, track_running_stats=True)\n",
       "      (conv3): Conv2d(64, 256, kernel_size=(1, 1), stride=(1, 1), bias=False)\n",
       "      (bn3): BatchNorm2d(256, eps=1e-05, momentum=0.1, affine=True, track_running_stats=True)\n",
       "      (relu): ReLU(inplace=True)\n",
       "    )\n",
       "    (2): Bottleneck(\n",
       "      (conv1): Conv2d(256, 64, kernel_size=(1, 1), stride=(1, 1), bias=False)\n",
       "      (bn1): BatchNorm2d(64, eps=1e-05, momentum=0.1, affine=True, track_running_stats=True)\n",
       "      (conv2): Conv2d(64, 64, kernel_size=(3, 3), stride=(1, 1), padding=(1, 1), bias=False)\n",
       "      (bn2): BatchNorm2d(64, eps=1e-05, momentum=0.1, affine=True, track_running_stats=True)\n",
       "      (conv3): Conv2d(64, 256, kernel_size=(1, 1), stride=(1, 1), bias=False)\n",
       "      (bn3): BatchNorm2d(256, eps=1e-05, momentum=0.1, affine=True, track_running_stats=True)\n",
       "      (relu): ReLU(inplace=True)\n",
       "    )\n",
       "  )\n",
       "  (layer2): Sequential(\n",
       "    (0): Bottleneck(\n",
       "      (conv1): Conv2d(256, 128, kernel_size=(1, 1), stride=(1, 1), bias=False)\n",
       "      (bn1): BatchNorm2d(128, eps=1e-05, momentum=0.1, affine=True, track_running_stats=True)\n",
       "      (conv2): Conv2d(128, 128, kernel_size=(3, 3), stride=(2, 2), padding=(1, 1), bias=False)\n",
       "      (bn2): BatchNorm2d(128, eps=1e-05, momentum=0.1, affine=True, track_running_stats=True)\n",
       "      (conv3): Conv2d(128, 512, kernel_size=(1, 1), stride=(1, 1), bias=False)\n",
       "      (bn3): BatchNorm2d(512, eps=1e-05, momentum=0.1, affine=True, track_running_stats=True)\n",
       "      (relu): ReLU(inplace=True)\n",
       "      (downsample): Sequential(\n",
       "        (0): Conv2d(256, 512, kernel_size=(1, 1), stride=(2, 2), bias=False)\n",
       "        (1): BatchNorm2d(512, eps=1e-05, momentum=0.1, affine=True, track_running_stats=True)\n",
       "      )\n",
       "    )\n",
       "    (1): Bottleneck(\n",
       "      (conv1): Conv2d(512, 128, kernel_size=(1, 1), stride=(1, 1), bias=False)\n",
       "      (bn1): BatchNorm2d(128, eps=1e-05, momentum=0.1, affine=True, track_running_stats=True)\n",
       "      (conv2): Conv2d(128, 128, kernel_size=(3, 3), stride=(1, 1), padding=(1, 1), bias=False)\n",
       "      (bn2): BatchNorm2d(128, eps=1e-05, momentum=0.1, affine=True, track_running_stats=True)\n",
       "      (conv3): Conv2d(128, 512, kernel_size=(1, 1), stride=(1, 1), bias=False)\n",
       "      (bn3): BatchNorm2d(512, eps=1e-05, momentum=0.1, affine=True, track_running_stats=True)\n",
       "      (relu): ReLU(inplace=True)\n",
       "    )\n",
       "    (2): Bottleneck(\n",
       "      (conv1): Conv2d(512, 128, kernel_size=(1, 1), stride=(1, 1), bias=False)\n",
       "      (bn1): BatchNorm2d(128, eps=1e-05, momentum=0.1, affine=True, track_running_stats=True)\n",
       "      (conv2): Conv2d(128, 128, kernel_size=(3, 3), stride=(1, 1), padding=(1, 1), bias=False)\n",
       "      (bn2): BatchNorm2d(128, eps=1e-05, momentum=0.1, affine=True, track_running_stats=True)\n",
       "      (conv3): Conv2d(128, 512, kernel_size=(1, 1), stride=(1, 1), bias=False)\n",
       "      (bn3): BatchNorm2d(512, eps=1e-05, momentum=0.1, affine=True, track_running_stats=True)\n",
       "      (relu): ReLU(inplace=True)\n",
       "    )\n",
       "    (3): Bottleneck(\n",
       "      (conv1): Conv2d(512, 128, kernel_size=(1, 1), stride=(1, 1), bias=False)\n",
       "      (bn1): BatchNorm2d(128, eps=1e-05, momentum=0.1, affine=True, track_running_stats=True)\n",
       "      (conv2): Conv2d(128, 128, kernel_size=(3, 3), stride=(1, 1), padding=(1, 1), bias=False)\n",
       "      (bn2): BatchNorm2d(128, eps=1e-05, momentum=0.1, affine=True, track_running_stats=True)\n",
       "      (conv3): Conv2d(128, 512, kernel_size=(1, 1), stride=(1, 1), bias=False)\n",
       "      (bn3): BatchNorm2d(512, eps=1e-05, momentum=0.1, affine=True, track_running_stats=True)\n",
       "      (relu): ReLU(inplace=True)\n",
       "    )\n",
       "  )\n",
       "  (layer3): Sequential(\n",
       "    (0): Bottleneck(\n",
       "      (conv1): Conv2d(512, 256, kernel_size=(1, 1), stride=(1, 1), bias=False)\n",
       "      (bn1): BatchNorm2d(256, eps=1e-05, momentum=0.1, affine=True, track_running_stats=True)\n",
       "      (conv2): Conv2d(256, 256, kernel_size=(3, 3), stride=(2, 2), padding=(1, 1), bias=False)\n",
       "      (bn2): BatchNorm2d(256, eps=1e-05, momentum=0.1, affine=True, track_running_stats=True)\n",
       "      (conv3): Conv2d(256, 1024, kernel_size=(1, 1), stride=(1, 1), bias=False)\n",
       "      (bn3): BatchNorm2d(1024, eps=1e-05, momentum=0.1, affine=True, track_running_stats=True)\n",
       "      (relu): ReLU(inplace=True)\n",
       "      (downsample): Sequential(\n",
       "        (0): Conv2d(512, 1024, kernel_size=(1, 1), stride=(2, 2), bias=False)\n",
       "        (1): BatchNorm2d(1024, eps=1e-05, momentum=0.1, affine=True, track_running_stats=True)\n",
       "      )\n",
       "    )\n",
       "    (1): Bottleneck(\n",
       "      (conv1): Conv2d(1024, 256, kernel_size=(1, 1), stride=(1, 1), bias=False)\n",
       "      (bn1): BatchNorm2d(256, eps=1e-05, momentum=0.1, affine=True, track_running_stats=True)\n",
       "      (conv2): Conv2d(256, 256, kernel_size=(3, 3), stride=(1, 1), padding=(1, 1), bias=False)\n",
       "      (bn2): BatchNorm2d(256, eps=1e-05, momentum=0.1, affine=True, track_running_stats=True)\n",
       "      (conv3): Conv2d(256, 1024, kernel_size=(1, 1), stride=(1, 1), bias=False)\n",
       "      (bn3): BatchNorm2d(1024, eps=1e-05, momentum=0.1, affine=True, track_running_stats=True)\n",
       "      (relu): ReLU(inplace=True)\n",
       "    )\n",
       "    (2): Bottleneck(\n",
       "      (conv1): Conv2d(1024, 256, kernel_size=(1, 1), stride=(1, 1), bias=False)\n",
       "      (bn1): BatchNorm2d(256, eps=1e-05, momentum=0.1, affine=True, track_running_stats=True)\n",
       "      (conv2): Conv2d(256, 256, kernel_size=(3, 3), stride=(1, 1), padding=(1, 1), bias=False)\n",
       "      (bn2): BatchNorm2d(256, eps=1e-05, momentum=0.1, affine=True, track_running_stats=True)\n",
       "      (conv3): Conv2d(256, 1024, kernel_size=(1, 1), stride=(1, 1), bias=False)\n",
       "      (bn3): BatchNorm2d(1024, eps=1e-05, momentum=0.1, affine=True, track_running_stats=True)\n",
       "      (relu): ReLU(inplace=True)\n",
       "    )\n",
       "    (3): Bottleneck(\n",
       "      (conv1): Conv2d(1024, 256, kernel_size=(1, 1), stride=(1, 1), bias=False)\n",
       "      (bn1): BatchNorm2d(256, eps=1e-05, momentum=0.1, affine=True, track_running_stats=True)\n",
       "      (conv2): Conv2d(256, 256, kernel_size=(3, 3), stride=(1, 1), padding=(1, 1), bias=False)\n",
       "      (bn2): BatchNorm2d(256, eps=1e-05, momentum=0.1, affine=True, track_running_stats=True)\n",
       "      (conv3): Conv2d(256, 1024, kernel_size=(1, 1), stride=(1, 1), bias=False)\n",
       "      (bn3): BatchNorm2d(1024, eps=1e-05, momentum=0.1, affine=True, track_running_stats=True)\n",
       "      (relu): ReLU(inplace=True)\n",
       "    )\n",
       "    (4): Bottleneck(\n",
       "      (conv1): Conv2d(1024, 256, kernel_size=(1, 1), stride=(1, 1), bias=False)\n",
       "      (bn1): BatchNorm2d(256, eps=1e-05, momentum=0.1, affine=True, track_running_stats=True)\n",
       "      (conv2): Conv2d(256, 256, kernel_size=(3, 3), stride=(1, 1), padding=(1, 1), bias=False)\n",
       "      (bn2): BatchNorm2d(256, eps=1e-05, momentum=0.1, affine=True, track_running_stats=True)\n",
       "      (conv3): Conv2d(256, 1024, kernel_size=(1, 1), stride=(1, 1), bias=False)\n",
       "      (bn3): BatchNorm2d(1024, eps=1e-05, momentum=0.1, affine=True, track_running_stats=True)\n",
       "      (relu): ReLU(inplace=True)\n",
       "    )\n",
       "    (5): Bottleneck(\n",
       "      (conv1): Conv2d(1024, 256, kernel_size=(1, 1), stride=(1, 1), bias=False)\n",
       "      (bn1): BatchNorm2d(256, eps=1e-05, momentum=0.1, affine=True, track_running_stats=True)\n",
       "      (conv2): Conv2d(256, 256, kernel_size=(3, 3), stride=(1, 1), padding=(1, 1), bias=False)\n",
       "      (bn2): BatchNorm2d(256, eps=1e-05, momentum=0.1, affine=True, track_running_stats=True)\n",
       "      (conv3): Conv2d(256, 1024, kernel_size=(1, 1), stride=(1, 1), bias=False)\n",
       "      (bn3): BatchNorm2d(1024, eps=1e-05, momentum=0.1, affine=True, track_running_stats=True)\n",
       "      (relu): ReLU(inplace=True)\n",
       "    )\n",
       "  )\n",
       "  (layer4): Sequential(\n",
       "    (0): Bottleneck(\n",
       "      (conv1): Conv2d(1024, 512, kernel_size=(1, 1), stride=(1, 1), bias=False)\n",
       "      (bn1): BatchNorm2d(512, eps=1e-05, momentum=0.1, affine=True, track_running_stats=True)\n",
       "      (conv2): Conv2d(512, 512, kernel_size=(3, 3), stride=(2, 2), padding=(1, 1), bias=False)\n",
       "      (bn2): BatchNorm2d(512, eps=1e-05, momentum=0.1, affine=True, track_running_stats=True)\n",
       "      (conv3): Conv2d(512, 2048, kernel_size=(1, 1), stride=(1, 1), bias=False)\n",
       "      (bn3): BatchNorm2d(2048, eps=1e-05, momentum=0.1, affine=True, track_running_stats=True)\n",
       "      (relu): ReLU(inplace=True)\n",
       "      (downsample): Sequential(\n",
       "        (0): Conv2d(1024, 2048, kernel_size=(1, 1), stride=(2, 2), bias=False)\n",
       "        (1): BatchNorm2d(2048, eps=1e-05, momentum=0.1, affine=True, track_running_stats=True)\n",
       "      )\n",
       "    )\n",
       "    (1): Bottleneck(\n",
       "      (conv1): Conv2d(2048, 512, kernel_size=(1, 1), stride=(1, 1), bias=False)\n",
       "      (bn1): BatchNorm2d(512, eps=1e-05, momentum=0.1, affine=True, track_running_stats=True)\n",
       "      (conv2): Conv2d(512, 512, kernel_size=(3, 3), stride=(1, 1), padding=(1, 1), bias=False)\n",
       "      (bn2): BatchNorm2d(512, eps=1e-05, momentum=0.1, affine=True, track_running_stats=True)\n",
       "      (conv3): Conv2d(512, 2048, kernel_size=(1, 1), stride=(1, 1), bias=False)\n",
       "      (bn3): BatchNorm2d(2048, eps=1e-05, momentum=0.1, affine=True, track_running_stats=True)\n",
       "      (relu): ReLU(inplace=True)\n",
       "    )\n",
       "    (2): Bottleneck(\n",
       "      (conv1): Conv2d(2048, 512, kernel_size=(1, 1), stride=(1, 1), bias=False)\n",
       "      (bn1): BatchNorm2d(512, eps=1e-05, momentum=0.1, affine=True, track_running_stats=True)\n",
       "      (conv2): Conv2d(512, 512, kernel_size=(3, 3), stride=(1, 1), padding=(1, 1), bias=False)\n",
       "      (bn2): BatchNorm2d(512, eps=1e-05, momentum=0.1, affine=True, track_running_stats=True)\n",
       "      (conv3): Conv2d(512, 2048, kernel_size=(1, 1), stride=(1, 1), bias=False)\n",
       "      (bn3): BatchNorm2d(2048, eps=1e-05, momentum=0.1, affine=True, track_running_stats=True)\n",
       "      (relu): ReLU(inplace=True)\n",
       "    )\n",
       "  )\n",
       "  (avgpool): AdaptiveAvgPool2d(output_size=(1, 1))\n",
       "  (fc): Linear(in_features=2048, out_features=10, bias=True)\n",
       ")"
      ]
     },
     "execution_count": 7,
     "metadata": {},
     "output_type": "execute_result"
    }
   ],
   "source": [
    "resnet"
   ]
  },
  {
   "cell_type": "code",
   "execution_count": 8,
   "id": "d994d575",
   "metadata": {},
   "outputs": [],
   "source": [
    "resnet = resnet.to(device)"
   ]
  },
  {
   "cell_type": "markdown",
   "id": "f97907c0",
   "metadata": {},
   "source": [
    "# tiny-imagenet images"
   ]
  },
  {
   "cell_type": "code",
   "execution_count": 10,
   "id": "6c2577b9",
   "metadata": {},
   "outputs": [],
   "source": [
    "tiny_imagenet_classes = ['n02410509',\n",
    "                         'n02106662',\n",
    "                         'n07734744',\n",
    "                         'n07873807',\n",
    "                         'n07920052',\n",
    "                         'n09428293',\n",
    "                         'n01910747',\n",
    "                         'n01882714',\n",
    "                         'n04285008',\n",
    "                         'n04146614']"
   ]
  },
  {
   "cell_type": "code",
   "execution_count": 11,
   "id": "7ed1d754",
   "metadata": {},
   "outputs": [],
   "source": [
    "current_directory = \".\""
   ]
  },
  {
   "cell_type": "code",
   "execution_count": 9,
   "id": "cc5aaa91",
   "metadata": {},
   "outputs": [],
   "source": [
    "pattern = 'subclasses-tiny-imagenet/*/images/*.JPEG'"
   ]
  },
  {
   "cell_type": "code",
   "execution_count": 10,
   "id": "2cde4fe1",
   "metadata": {},
   "outputs": [],
   "source": [
    "jpeg_files = glob.glob(pattern, recursive=True)"
   ]
  },
  {
   "cell_type": "code",
   "execution_count": 11,
   "id": "391cf882",
   "metadata": {},
   "outputs": [
    {
     "data": {
      "text/plain": [
       "5000"
      ]
     },
     "execution_count": 11,
     "metadata": {},
     "output_type": "execute_result"
    }
   ],
   "source": [
    "len(jpeg_files)"
   ]
  },
  {
   "cell_type": "code",
   "execution_count": 12,
   "id": "01efea50",
   "metadata": {},
   "outputs": [],
   "source": [
    "stage1_files = jpeg_files[:]"
   ]
  },
  {
   "cell_type": "code",
   "execution_count": 13,
   "id": "c31df11b",
   "metadata": {},
   "outputs": [
    {
     "data": {
      "text/plain": [
       "'subclasses-tiny-imagenet/n07920052/images/n07920052_389.JPEG'"
      ]
     },
     "execution_count": 13,
     "metadata": {},
     "output_type": "execute_result"
    }
   ],
   "source": [
    "stage1_files[0]"
   ]
  },
  {
   "cell_type": "code",
   "execution_count": 47,
   "id": "417f1198",
   "metadata": {},
   "outputs": [],
   "source": [
    "stage2_files = jpeg_files[::4]"
   ]
  },
  {
   "cell_type": "code",
   "execution_count": 48,
   "id": "f68fe74b",
   "metadata": {},
   "outputs": [
    {
     "data": {
      "text/plain": [
       "1250"
      ]
     },
     "execution_count": 48,
     "metadata": {},
     "output_type": "execute_result"
    }
   ],
   "source": [
    "len(stage2_files)"
   ]
  },
  {
   "cell_type": "code",
   "execution_count": 49,
   "id": "214133cd",
   "metadata": {},
   "outputs": [],
   "source": [
    "def create_img_data(block_name: str, files: list):\n",
    "\n",
    "    for x in files:\n",
    "        file_path = x\n",
    "        \n",
    "        # Split the file string\n",
    "        split_file = x.split('/')\n",
    "        class_wnid = split_file[1]\n",
    "        file_name = split_file[3]\n",
    "        \n",
    "        with Image.open(file_path) as img:\n",
    "            \n",
    "            # Convert grayscale images to RGB\n",
    "            if img.mode == 'L':\n",
    "                img = img.convert('RGB')\n",
    "            \n",
    "            img_tensor = resnet_transform(img).unsqueeze(0)\n",
    "            img_tensor = img_tensor.to(device)\n",
    "            # Pass through the model, and get the feature maps that come out of wherever\n",
    "            # the hook was placed\n",
    "            outputs = resnet(img_tensor)\n",
    "            feature_maps = first_conv_features[0]\n",
    "            feature_maps = feature_maps.detach().cpu().numpy() # Have to call this to turn tensor into numpy array\n",
    "\n",
    "            plot_img(feature_maps)\n",
    "            break\n",
    "\n",
    "            file_name = file_name.split('.')[0]\n",
    "            file_name = f\"{file_name}_feature_maps\"\n",
    "            save_dir = f\"resnet50/{block_name}_input_data/{class_wnid}\"\n",
    "            \n",
    "            if not os.path.exists(save_dir):\n",
    "                os.makedirs(save_dir)\n",
    "            \n",
    "            np.save(f\"{save_dir}/{file_name}.npy\", feature_maps)"
   ]
  },
  {
   "cell_type": "code",
   "execution_count": 53,
   "id": "c560d894",
   "metadata": {},
   "outputs": [
    {
     "name": "stdout",
     "output_type": "stream",
     "text": [
      "64\n"
     ]
    },
    {
     "data": {
      "image/png": "[encoded data removed]",
      "text/plain": [
       "<Figure size 432x288 with 64 Axes>"
      ]
     },
     "metadata": {
      "needs_background": "light"
     },
     "output_type": "display_data"
    }
   ],
   "source": [
    "first_conv_features = None\n",
    "\n",
    "def hook_fn(module, input, output):\n",
    "    global first_conv_features\n",
    "    first_conv_features = output\n",
    "\n",
    "hook_handle = resnet.maxpool.register_forward_hook(hook_fn)\n",
    "create_img_data(\"cfg0\", stage1_files)\n",
    "hook_handle.remove()\n",
    "\n",
    "# hook_handle = resnet.layer1[-1].register_forward_hook(hook_fn)\n",
    "# create_img_data(\"cfg1\", stage2_files)\n",
    "# hook_handle.remove()"
   ]
  },
  {
   "cell_type": "markdown",
   "id": "a3accd09",
   "metadata": {},
   "source": [
    "# Pass images through ResNet, but turn off some of the feature maps"
   ]
  },
  {
   "cell_type": "code",
   "execution_count": 14,
   "id": "1e4cc148",
   "metadata": {},
   "outputs": [],
   "source": [
    "class FineTuningDataset(Dataset):\n",
    "    def __init__(self, data, transform = resnet_transform):\n",
    "        '''class_dict = {'n02410509':347,\n",
    "                      'n02106662':235,\n",
    "                      'n07734744':947,\n",
    "                      'n07873807':963,\n",
    "                      'n07920052':967,\n",
    "                      'n09428293':978,\n",
    "                      'n01910747':107,\n",
    "                      'n01882714':105,\n",
    "                      'n04285008':817,\n",
    "                      'n04146614':779}'''\n",
    "        \n",
    "        class_dict = {'n02410509':0,\n",
    "                      'n02106662':1,\n",
    "                      'n07734744':2,\n",
    "                      'n07873807':3,\n",
    "                      'n07920052':4,\n",
    "                      'n09428293':5,\n",
    "                      'n01910747':6,\n",
    "                      'n01882714':7,\n",
    "                      'n04285008':8,\n",
    "                      'n04146614':9}\n",
    "        \n",
    "        data_and_labels = []\n",
    "        for i in range(len(data)):\n",
    "            file_path = data[i]\n",
    "        \n",
    "            # Split the file string\n",
    "            split_file = data[i].split('/')\n",
    "            class_wnid = split_file[1]\n",
    "            file_name = split_file[3]\n",
    "        \n",
    "            with Image.open(file_path) as img:\n",
    "            \n",
    "                # Convert grayscale images to RGB\n",
    "                if img.mode == 'L':\n",
    "                    img = img.convert('RGB')\n",
    "            \n",
    "                img_tensor = resnet_transform(img)\n",
    "            \n",
    "            data_and_labels.append((img_tensor, class_dict[class_wnid]))\n",
    "        \n",
    "        self.data = data_and_labels\n",
    "        self.transform = transform\n",
    "        \n",
    "    def __len__(self):\n",
    "        return len(self.data)\n",
    "    \n",
    "    def __getitem__(self, idx):\n",
    "        sample = self.data[idx][0]\n",
    "        target = self.data[idx][1]\n",
    "        \n",
    "        return sample, target"
   ]
  },
  {
   "cell_type": "code",
   "execution_count": 15,
   "id": "a40fc404",
   "metadata": {},
   "outputs": [],
   "source": [
    "data = FineTuningDataset(stage1_files)"
   ]
  },
  {
   "cell_type": "code",
   "execution_count": 16,
   "id": "c20e2779",
   "metadata": {},
   "outputs": [],
   "source": [
    "# X = [tup[0] for tup in data]\n",
    "# y = [tup[1] for tup in data]"
   ]
  },
  {
   "cell_type": "code",
   "execution_count": 17,
   "id": "1654fae5",
   "metadata": {},
   "outputs": [],
   "source": [
    "train_data, test_data = train_test_split(data, test_size=0.2, random_state=42)"
   ]
  },
  {
   "cell_type": "code",
   "execution_count": 31,
   "id": "f74ed7b7",
   "metadata": {},
   "outputs": [],
   "source": [
    "criterion = nn.CrossEntropyLoss()\n",
    "optimizer = optim.Adam(resnet.fc.parameters(), lr=0.001)\n",
    "num_epochs = 10\n",
    "batch_size = 128"
   ]
  },
  {
   "cell_type": "code",
   "execution_count": 32,
   "id": "e11817c7",
   "metadata": {},
   "outputs": [],
   "source": [
    "train_loader = DataLoader(train_data, batch_size=batch_size, shuffle=True)\n",
    "test_loader = DataLoader(test_data, batch_size=batch_size, shuffle=False)"
   ]
  },
  {
   "cell_type": "code",
   "execution_count": 33,
   "id": "16eac247",
   "metadata": {},
   "outputs": [],
   "source": [
    "def fine_tune(model=None, train_loader=None, loss_func=None):\n",
    "    model = model.to(device)\n",
    "    \n",
    "    for epoch in range(1, num_epochs+1):\n",
    "        train_correct = 0\n",
    "        train_total = 0\n",
    "        running_loss = 0.0\n",
    "        for step, (images, labels) in enumerate(train_loader):\n",
    "            model.train()   # set the model in training mode\n",
    "                \n",
    "            images = images.to(device) # move images and labels to GPU\n",
    "            labels = labels.to(device)\n",
    "                \n",
    "            optimizer.zero_grad() # Zero out gradients from last backprop\n",
    "                \n",
    "            outputs = model(images) # Pass images through the model\n",
    "            _, predicted = torch.max(outputs.data, 1) # Obtain indices of predictions\n",
    "                \n",
    "            train_loss = loss_func(outputs, labels) # Get the loss and backpropogate it\n",
    "            train_loss.backward()\n",
    "                \n",
    "            # Get some metrics\n",
    "            running_loss += train_loss\n",
    "            train_total += labels.size(0)\n",
    "            train_correct += (predicted == labels).sum()\n",
    "            train_accuracy = 100 * (train_correct/train_total)\n",
    "                \n",
    "            if step % 5 == 0:\n",
    "                test_acc, test_loss = test(model=model, test_loader=test_loader, loss_func=loss_func)\n",
    "                print(f\"Epoch: {epoch}, Step: {step}\")\n",
    "                print(f\"\\tTrain Loss: {running_loss}, Train Accuracy: {train_accuracy}\")\n",
    "                print(f\"\\tTest Loss: {test_loss}, Test Accuracy: {test_acc}\")\n",
    "                print()\n",
    "                \n",
    "            optimizer.step()"
   ]
  },
  {
   "cell_type": "code",
   "execution_count": 34,
   "id": "d96ee357",
   "metadata": {},
   "outputs": [],
   "source": [
    "def test(model=None, test_loader=None, loss_func=None):\n",
    "    total = 0\n",
    "    correct = 0\n",
    "    \n",
    "    model = model.to(device)\n",
    "    model.eval()\n",
    "    with torch.no_grad():\n",
    "        total_loss = 0\n",
    "        for images, labels in test_loader:\n",
    "            images = images.to(device)\n",
    "            labels = labels.to(device)\n",
    "            \n",
    "            outputs = model(images)\n",
    "            _, predicted = torch.max(outputs.data, 1)\n",
    "            \n",
    "            test_loss = loss_func(outputs, labels)\n",
    "            total_loss += test_loss\n",
    "            \n",
    "            # Increment total number of observations seen by\n",
    "            # number of items in this batch\n",
    "            total += labels.size(0)\n",
    "\n",
    "            # Increment total number of correct predictions by\n",
    "            # number of correct predictions in this batch\n",
    "            correct += (predicted == labels).sum()\n",
    "            \n",
    "        accuracy = (100 * (correct/total))\n",
    "        accuracy = accuracy.item()\n",
    "        return accuracy, total_loss"
   ]
  },
  {
   "cell_type": "code",
   "execution_count": 35,
   "id": "d12ba296",
   "metadata": {
    "scrolled": false
   },
   "outputs": [
    {
     "name": "stdout",
     "output_type": "stream",
     "text": [
      "Epoch: 1, Step: 0\n",
      "\tTrain Loss: 0.322469562292099, Train Accuracy: 93.75\n",
      "\tTest Loss: 2.846712350845337, Test Accuracy: 91.10000610351562\n",
      "\n",
      "Epoch: 1, Step: 5\n",
      "\tTrain Loss: 1.9661844968795776, Train Accuracy: 93.09896087646484\n",
      "\tTest Loss: 2.7239086627960205, Test Accuracy: 91.20000457763672\n",
      "\n",
      "Epoch: 1, Step: 10\n",
      "\tTrain Loss: 3.6976335048675537, Train Accuracy: 92.8977279663086\n",
      "\tTest Loss: 2.663175582885742, Test Accuracy: 90.9000015258789\n",
      "\n",
      "Epoch: 1, Step: 15\n",
      "\tTrain Loss: 5.171075344085693, Train Accuracy: 93.212890625\n",
      "\tTest Loss: 2.5718915462493896, Test Accuracy: 90.80000305175781\n",
      "\n",
      "Epoch: 1, Step: 20\n",
      "\tTrain Loss: 6.678676128387451, Train Accuracy: 93.26636505126953\n",
      "\tTest Loss: 2.571143627166748, Test Accuracy: 91.20000457763672\n",
      "\n",
      "Epoch: 1, Step: 25\n",
      "\tTrain Loss: 8.283035278320312, Train Accuracy: 93.05889892578125\n",
      "\tTest Loss: 2.4908201694488525, Test Accuracy: 91.70000457763672\n",
      "\n",
      "Epoch: 1, Step: 30\n",
      "\tTrain Loss: 9.743650436401367, Train Accuracy: 93.17036437988281\n",
      "\tTest Loss: 2.4592103958129883, Test Accuracy: 91.9000015258789\n",
      "\n",
      "Epoch: 2, Step: 0\n",
      "\tTrain Loss: 10.362934112548828, Train Accuracy: 96.09375\n",
      "\tTest Loss: 2.467954397201538, Test Accuracy: 91.30000305175781\n",
      "\n",
      "Epoch: 2, Step: 5\n",
      "\tTrain Loss: 11.801024436950684, Train Accuracy: 94.40104675292969\n",
      "\tTest Loss: 2.403826951980591, Test Accuracy: 90.9000015258789\n",
      "\n",
      "Epoch: 2, Step: 10\n",
      "\tTrain Loss: 13.135699272155762, Train Accuracy: 93.8210220336914\n",
      "\tTest Loss: 2.3014438152313232, Test Accuracy: 91.80000305175781\n",
      "\n",
      "Epoch: 2, Step: 15\n",
      "\tTrain Loss: 14.547662734985352, Train Accuracy: 93.45703125\n",
      "\tTest Loss: 2.288097381591797, Test Accuracy: 92.10000610351562\n",
      "\n",
      "Epoch: 2, Step: 20\n",
      "\tTrain Loss: 15.791336059570312, Train Accuracy: 93.63839721679688\n",
      "\tTest Loss: 2.2858099937438965, Test Accuracy: 92.10000610351562\n",
      "\n",
      "Epoch: 2, Step: 25\n",
      "\tTrain Loss: 17.123462677001953, Train Accuracy: 93.75000762939453\n",
      "\tTest Loss: 2.25299072265625, Test Accuracy: 91.80000305175781\n",
      "\n",
      "Epoch: 2, Step: 30\n",
      "\tTrain Loss: 18.465322494506836, Train Accuracy: 93.69959259033203\n",
      "\tTest Loss: 2.2097527980804443, Test Accuracy: 91.9000015258789\n",
      "\n",
      "Epoch: 3, Step: 0\n",
      "\tTrain Loss: 18.980663299560547, Train Accuracy: 93.75\n",
      "\tTest Loss: 2.201411724090576, Test Accuracy: 92.10000610351562\n",
      "\n",
      "Epoch: 3, Step: 5\n",
      "\tTrain Loss: 20.128183364868164, Train Accuracy: 95.57292175292969\n",
      "\tTest Loss: 2.151305913925171, Test Accuracy: 92.30000305175781\n",
      "\n",
      "Epoch: 3, Step: 10\n",
      "\tTrain Loss: 21.281513214111328, Train Accuracy: 95.3125\n",
      "\tTest Loss: 2.1103355884552, Test Accuracy: 92.70000457763672\n",
      "\n",
      "Epoch: 3, Step: 15\n",
      "\tTrain Loss: 22.3867244720459, Train Accuracy: 95.01953125\n",
      "\tTest Loss: 2.12153959274292, Test Accuracy: 92.4000015258789\n",
      "\n",
      "Epoch: 3, Step: 20\n",
      "\tTrain Loss: 23.48025894165039, Train Accuracy: 94.75446319580078\n",
      "\tTest Loss: 2.0995099544525146, Test Accuracy: 91.9000015258789\n",
      "\n",
      "Epoch: 3, Step: 25\n",
      "\tTrain Loss: 24.61318588256836, Train Accuracy: 94.92188262939453\n",
      "\tTest Loss: 2.104640007019043, Test Accuracy: 92.20000457763672\n",
      "\n",
      "Epoch: 3, Step: 30\n",
      "\tTrain Loss: 25.80044937133789, Train Accuracy: 94.8588638305664\n",
      "\tTest Loss: 2.0533604621887207, Test Accuracy: 92.80000305175781\n",
      "\n",
      "Epoch: 4, Step: 0\n",
      "\tTrain Loss: 26.254589080810547, Train Accuracy: 94.53125\n",
      "\tTest Loss: 2.0531082153320312, Test Accuracy: 92.70000457763672\n",
      "\n",
      "Epoch: 4, Step: 5\n",
      "\tTrain Loss: 27.337656021118164, Train Accuracy: 94.01042175292969\n",
      "\tTest Loss: 2.113424777984619, Test Accuracy: 92.20000457763672\n",
      "\n",
      "Epoch: 4, Step: 10\n",
      "\tTrain Loss: 28.48579978942871, Train Accuracy: 94.17613983154297\n",
      "\tTest Loss: 2.102304458618164, Test Accuracy: 92.10000610351562\n",
      "\n",
      "Epoch: 4, Step: 15\n",
      "\tTrain Loss: 29.539350509643555, Train Accuracy: 94.189453125\n",
      "\tTest Loss: 2.0142927169799805, Test Accuracy: 92.30000305175781\n",
      "\n",
      "Epoch: 4, Step: 20\n",
      "\tTrain Loss: 30.551101684570312, Train Accuracy: 94.49404907226562\n",
      "\tTest Loss: 1.9893975257873535, Test Accuracy: 92.80000305175781\n",
      "\n",
      "Epoch: 4, Step: 25\n",
      "\tTrain Loss: 31.44940757751465, Train Accuracy: 94.80168914794922\n",
      "\tTest Loss: 1.974789023399353, Test Accuracy: 92.9000015258789\n",
      "\n",
      "Epoch: 4, Step: 30\n",
      "\tTrain Loss: 32.49773406982422, Train Accuracy: 94.75806427001953\n",
      "\tTest Loss: 1.9495974779129028, Test Accuracy: 92.80000305175781\n",
      "\n",
      "Epoch: 5, Step: 0\n",
      "\tTrain Loss: 32.952674865722656, Train Accuracy: 96.09375\n",
      "\tTest Loss: 1.9541776180267334, Test Accuracy: 92.30000305175781\n",
      "\n",
      "Epoch: 5, Step: 5\n",
      "\tTrain Loss: 33.87920379638672, Train Accuracy: 95.44271087646484\n",
      "\tTest Loss: 1.9562128782272339, Test Accuracy: 92.70000457763672\n",
      "\n",
      "Epoch: 5, Step: 10\n",
      "\tTrain Loss: 34.86101150512695, Train Accuracy: 95.45455169677734\n",
      "\tTest Loss: 1.9643940925598145, Test Accuracy: 92.30000305175781\n",
      "\n",
      "Epoch: 5, Step: 15\n",
      "\tTrain Loss: 35.7244873046875, Train Accuracy: 95.5078125\n",
      "\tTest Loss: 1.9109413623809814, Test Accuracy: 93.20000457763672\n",
      "\n",
      "Epoch: 5, Step: 20\n",
      "\tTrain Loss: 36.64078140258789, Train Accuracy: 95.4985122680664\n",
      "\tTest Loss: 1.9029861688613892, Test Accuracy: 93.10000610351562\n",
      "\n",
      "Epoch: 5, Step: 25\n",
      "\tTrain Loss: 37.53429412841797, Train Accuracy: 95.70313262939453\n",
      "\tTest Loss: 1.8804547786712646, Test Accuracy: 92.9000015258789\n",
      "\n",
      "Epoch: 5, Step: 30\n",
      "\tTrain Loss: 38.55491256713867, Train Accuracy: 95.48890686035156\n",
      "\tTest Loss: 1.9017376899719238, Test Accuracy: 92.60000610351562\n",
      "\n",
      "Epoch: 6, Step: 0\n",
      "\tTrain Loss: 38.94405746459961, Train Accuracy: 96.09375\n",
      "\tTest Loss: 1.9186139106750488, Test Accuracy: 92.70000457763672\n",
      "\n",
      "Epoch: 6, Step: 5\n",
      "\tTrain Loss: 39.70756912231445, Train Accuracy: 97.00521087646484\n",
      "\tTest Loss: 1.9575289487838745, Test Accuracy: 92.20000457763672\n",
      "\n",
      "Epoch: 6, Step: 10\n",
      "\tTrain Loss: 40.64272689819336, Train Accuracy: 96.30681610107422\n",
      "\tTest Loss: 1.9056204557418823, Test Accuracy: 92.10000610351562\n",
      "\n",
      "Epoch: 6, Step: 15\n",
      "\tTrain Loss: 41.49776077270508, Train Accuracy: 96.435546875\n",
      "\tTest Loss: 1.8641680479049683, Test Accuracy: 92.9000015258789\n",
      "\n",
      "Epoch: 6, Step: 20\n",
      "\tTrain Loss: 42.348777770996094, Train Accuracy: 96.50297546386719\n",
      "\tTest Loss: 1.8585858345031738, Test Accuracy: 93.10000610351562\n",
      "\n",
      "Epoch: 6, Step: 25\n",
      "\tTrain Loss: 43.25982666015625, Train Accuracy: 96.27404022216797\n",
      "\tTest Loss: 1.8609954118728638, Test Accuracy: 93.60000610351562\n",
      "\n",
      "Epoch: 6, Step: 30\n",
      "\tTrain Loss: 44.15638732910156, Train Accuracy: 96.11894989013672\n",
      "\tTest Loss: 1.824378490447998, Test Accuracy: 93.50000762939453\n",
      "\n",
      "Epoch: 7, Step: 0\n",
      "\tTrain Loss: 44.45222091674805, Train Accuracy: 95.3125\n",
      "\tTest Loss: 1.840353012084961, Test Accuracy: 93.30000305175781\n",
      "\n",
      "Epoch: 7, Step: 5\n",
      "\tTrain Loss: 45.18778610229492, Train Accuracy: 96.875\n",
      "\tTest Loss: 1.840668797492981, Test Accuracy: 93.00000762939453\n",
      "\n",
      "Epoch: 7, Step: 10\n",
      "\tTrain Loss: 45.91666793823242, Train Accuracy: 97.01705169677734\n",
      "\tTest Loss: 1.8355152606964111, Test Accuracy: 92.70000457763672\n",
      "\n",
      "Epoch: 7, Step: 15\n",
      "\tTrain Loss: 46.684715270996094, Train Accuracy: 96.77734375\n",
      "\tTest Loss: 1.8612236976623535, Test Accuracy: 92.70000457763672\n",
      "\n",
      "Epoch: 7, Step: 20\n",
      "\tTrain Loss: 47.40299987792969, Train Accuracy: 96.9122085571289\n",
      "\tTest Loss: 1.805474042892456, Test Accuracy: 93.00000762939453\n",
      "\n",
      "Epoch: 7, Step: 25\n",
      "\tTrain Loss: 48.198001861572266, Train Accuracy: 96.78485870361328\n",
      "\tTest Loss: 1.7978112697601318, Test Accuracy: 93.70000457763672\n",
      "\n",
      "Epoch: 7, Step: 30\n",
      "\tTrain Loss: 49.04122543334961, Train Accuracy: 96.64817810058594\n",
      "\tTest Loss: 1.79218590259552, Test Accuracy: 93.60000610351562\n",
      "\n",
      "Epoch: 8, Step: 0\n",
      "\tTrain Loss: 49.37041473388672, Train Accuracy: 96.09375\n",
      "\tTest Loss: 1.7996346950531006, Test Accuracy: 93.50000762939453\n",
      "\n",
      "Epoch: 8, Step: 5\n",
      "\tTrain Loss: 50.03650665283203, Train Accuracy: 97.78646087646484\n",
      "\tTest Loss: 1.7987133264541626, Test Accuracy: 93.50000762939453\n",
      "\n",
      "Epoch: 8, Step: 10\n",
      "\tTrain Loss: 50.90928268432617, Train Accuracy: 96.73295593261719\n",
      "\tTest Loss: 1.7701084613800049, Test Accuracy: 93.50000762939453\n",
      "\n",
      "Epoch: 8, Step: 15\n",
      "\tTrain Loss: 51.65962600708008, Train Accuracy: 96.58203125\n",
      "\tTest Loss: 1.7591184377670288, Test Accuracy: 92.9000015258789\n",
      "\n",
      "Epoch: 8, Step: 20\n",
      "\tTrain Loss: 52.38911056518555, Train Accuracy: 96.72618865966797\n",
      "\tTest Loss: 1.7712266445159912, Test Accuracy: 92.60000610351562\n",
      "\n",
      "Epoch: 8, Step: 25\n",
      "\tTrain Loss: 53.10284423828125, Train Accuracy: 96.72476196289062\n",
      "\tTest Loss: 1.7637748718261719, Test Accuracy: 93.00000762939453\n",
      "\n",
      "Epoch: 8, Step: 30\n",
      "\tTrain Loss: 53.776588439941406, Train Accuracy: 96.72378540039062\n",
      "\tTest Loss: 1.7803828716278076, Test Accuracy: 93.4000015258789\n",
      "\n"
     ]
    },
    {
     "name": "stdout",
     "output_type": "stream",
     "text": [
      "Epoch: 9, Step: 0\n",
      "\tTrain Loss: 54.080196380615234, Train Accuracy: 94.53125\n",
      "\tTest Loss: 1.8046401739120483, Test Accuracy: 93.20000457763672\n",
      "\n",
      "Epoch: 9, Step: 5\n",
      "\tTrain Loss: 54.80236053466797, Train Accuracy: 96.74479675292969\n",
      "\tTest Loss: 1.7805192470550537, Test Accuracy: 93.20000457763672\n",
      "\n",
      "Epoch: 9, Step: 10\n",
      "\tTrain Loss: 55.51826858520508, Train Accuracy: 96.44886779785156\n",
      "\tTest Loss: 1.7474205493927002, Test Accuracy: 93.20000457763672\n",
      "\n",
      "Epoch: 9, Step: 15\n",
      "\tTrain Loss: 56.24517822265625, Train Accuracy: 96.630859375\n",
      "\tTest Loss: 1.7442443370819092, Test Accuracy: 93.00000762939453\n",
      "\n",
      "Epoch: 9, Step: 20\n",
      "\tTrain Loss: 56.92768096923828, Train Accuracy: 96.61458587646484\n",
      "\tTest Loss: 1.7709708213806152, Test Accuracy: 93.10000610351562\n",
      "\n",
      "Epoch: 9, Step: 25\n",
      "\tTrain Loss: 57.54679489135742, Train Accuracy: 96.78485870361328\n",
      "\tTest Loss: 1.7398812770843506, Test Accuracy: 93.60000610351562\n",
      "\n",
      "Epoch: 9, Step: 30\n",
      "\tTrain Loss: 58.22697448730469, Train Accuracy: 96.92539978027344\n",
      "\tTest Loss: 1.715734839439392, Test Accuracy: 93.70000457763672\n",
      "\n",
      "Epoch: 10, Step: 0\n",
      "\tTrain Loss: 58.5468635559082, Train Accuracy: 95.3125\n",
      "\tTest Loss: 1.715684175491333, Test Accuracy: 93.80000305175781\n",
      "\n",
      "Epoch: 10, Step: 5\n",
      "\tTrain Loss: 59.23134994506836, Train Accuracy: 96.74479675292969\n",
      "\tTest Loss: 1.7821036577224731, Test Accuracy: 92.50000762939453\n",
      "\n",
      "Epoch: 10, Step: 10\n",
      "\tTrain Loss: 59.870418548583984, Train Accuracy: 96.44886779785156\n",
      "\tTest Loss: 1.7736159563064575, Test Accuracy: 92.60000610351562\n",
      "\n",
      "Epoch: 10, Step: 15\n",
      "\tTrain Loss: 60.47686004638672, Train Accuracy: 96.630859375\n",
      "\tTest Loss: 1.6936004161834717, Test Accuracy: 93.50000762939453\n",
      "\n",
      "Epoch: 10, Step: 20\n",
      "\tTrain Loss: 61.141658782958984, Train Accuracy: 96.9122085571289\n",
      "\tTest Loss: 1.6938471794128418, Test Accuracy: 93.4000015258789\n",
      "\n",
      "Epoch: 10, Step: 25\n",
      "\tTrain Loss: 61.821372985839844, Train Accuracy: 96.87500762939453\n",
      "\tTest Loss: 1.720955491065979, Test Accuracy: 93.10000610351562\n",
      "\n",
      "Epoch: 10, Step: 30\n",
      "\tTrain Loss: 62.43735885620117, Train Accuracy: 97.05140686035156\n",
      "\tTest Loss: 1.6869583129882812, Test Accuracy: 93.50000762939453\n",
      "\n"
     ]
    }
   ],
   "source": [
    "fine_tune(model=resnet, train_loader=train_loader, loss_func=criterion)"
   ]
  },
  {
   "cell_type": "markdown",
   "id": "15055b9a",
   "metadata": {},
   "source": [
    "### Test model on test data and get accuracy"
   ]
  },
  {
   "cell_type": "code",
   "execution_count": 36,
   "id": "5e9cf9c6",
   "metadata": {},
   "outputs": [],
   "source": [
    "accuracy, test_loss = test(model=resnet, test_loader=test_loader, loss_func=criterion)"
   ]
  },
  {
   "cell_type": "code",
   "execution_count": 37,
   "id": "53700551",
   "metadata": {},
   "outputs": [
    {
     "data": {
      "text/plain": [
       "93.50000762939453"
      ]
     },
     "execution_count": 37,
     "metadata": {},
     "output_type": "execute_result"
    }
   ],
   "source": [
    "accuracy"
   ]
  },
  {
   "cell_type": "markdown",
   "id": "0e9bb526",
   "metadata": {},
   "source": [
    "### Now establish a hook where if you turn the first _X_ feature maps off (to all 0s), then get its accuracy"
   ]
  },
  {
   "cell_type": "code",
   "execution_count": 38,
   "id": "9d449f1b",
   "metadata": {},
   "outputs": [],
   "source": [
    "x = [0, 1, 2, 3, 4, 5, 6, 7, 8, 9, 10, 11, 12, 13, 14, 15]\n",
    "y = []\n",
    "for num in x:\n",
    "    def modify_maxpool_output(module, input, output):\n",
    "        modified_output = output.clone()\n",
    "        modified_output[:, :num, :, :] = 0\n",
    "        return modified_output\n",
    "\n",
    "    hook = resnet.maxpool.register_forward_hook(modify_maxpool_output)\n",
    "    accuracy, test_loss = test(model=resnet, test_loader=test_loader, loss_func=criterion)\n",
    "    hook.remove()\n",
    "    y.append(accuracy)"
   ]
  },
  {
   "cell_type": "code",
   "execution_count": 39,
   "id": "cc85e0c5",
   "metadata": {},
   "outputs": [
    {
     "data": {
      "image/png": "[encoded data removed]",
      "text/plain": [
       "<Figure size 432x288 with 1 Axes>"
      ]
     },
     "metadata": {
      "needs_background": "light"
     },
     "output_type": "display_data"
    }
   ],
   "source": [
    "plt.plot(x, y)\n",
    "plt.scatter(x, y)\n",
    "plt.xlabel(\"Number of feature maps turned off\", fontsize=15)\n",
    "plt.ylabel(\"Testing accuracy\", fontsize=15)\n",
    "plt.title(\"Change in accuracy as feature maps are removed\", fontsize=15)\n",
    "plt.show()"
   ]
  },
  {
   "cell_type": "markdown",
   "id": "2e011ff2",
   "metadata": {},
   "source": [
    "### Modify output feature maps from the end of stage 1"
   ]
  },
  {
   "cell_type": "code",
   "execution_count": 48,
   "id": "00bbc7c0",
   "metadata": {},
   "outputs": [],
   "source": [
    "x = [0, 4, 8, 12, 16, 20, 24, 28, 32, 36, 40, 44, 48, 52, 56, 60, 64]\n",
    "# x = [0, 1, 2, 3, 4, 5, 6, 7, 8, 9, 10, 11, 12, 13, 14, 15, 30]\n",
    "y = []\n",
    "for num in x:\n",
    "    def modify_layer1_output(module, input, output):\n",
    "        modified_output = output.clone()\n",
    "        modified_output[:, :num, :, :] = 0\n",
    "        return modified_output\n",
    "\n",
    "    hook = resnet.layer1[-1].register_forward_hook(modify_layer1_output)\n",
    "    accuracy, test_loss = test(model=resnet, test_loader=test_loader, loss_func=criterion)\n",
    "    hook.remove()\n",
    "    y.append(accuracy)"
   ]
  },
  {
   "cell_type": "code",
   "execution_count": 49,
   "id": "8d01f39c",
   "metadata": {},
   "outputs": [
    {
     "data": {
      "image/png": "[encoded data removed]",
      "text/plain": [
       "<Figure size 432x288 with 1 Axes>"
      ]
     },
     "metadata": {
      "needs_background": "light"
     },
     "output_type": "display_data"
    }
   ],
   "source": [
    "plt.plot(x, y)\n",
    "plt.scatter(x, y)\n",
    "plt.xlabel(\"Number of feature maps turned off\", fontsize=15)\n",
    "plt.ylabel(\"Testing accuracy\", fontsize=15)\n",
    "plt.title(\"Change in accuracy as feature maps are removed from output of stage 1\", fontsize=12)\n",
    "plt.show()"
   ]
  },
  {
   "cell_type": "code",
   "execution_count": 47,
   "id": "af70f921",
   "metadata": {},
   "outputs": [
    {
     "name": "stdout",
     "output_type": "stream",
     "text": [
      "[93.50000762939453, 92.80000305175781, 93.80000305175781, 93.30000305175781, 92.80000305175781, 92.60000610351562, 91.80000305175781, 92.0, 92.20000457763672, 92.0, 91.4000015258789, 91.5, 92.50000762939453, 92.50000762939453, 92.0, 91.5, 81.30000305175781]\n"
     ]
    }
   ],
   "source": [
    "print(y)"
   ]
  },
  {
   "cell_type": "markdown",
   "id": "5c33f433",
   "metadata": {},
   "source": [
    "# Visualize said feature maps if you want"
   ]
  },
  {
   "cell_type": "code",
   "execution_count": 21,
   "id": "1dbc4165",
   "metadata": {},
   "outputs": [],
   "source": [
    "def plot_img(feature_maps):\n",
    "    print(feature_maps.shape[0])\n",
    "    num_filters = feature_maps.shape[0]\n",
    "    dim = int(math.sqrt(num_filters))\n",
    "\n",
    "    # Visualize the feature maps\n",
    "    fig, axarr = plt.subplots(dim, dim)  # Assuming 32 filters, adjust as needed\n",
    "    for i in range(num_filters):\n",
    "        ax = axarr[i // dim, i % dim]\n",
    "\n",
    "#         image_array = feature_maps[i].detach().cpu().numpy()\n",
    "        image_array = feature_maps[i]\n",
    "    \n",
    "        ax.imshow(image_array, cmap='viridis')\n",
    "        ax.axis('off')\n",
    "    plt.show()\n",
    "#     plt.savefig('CONV_rslt.png')"
   ]
  },
  {
   "cell_type": "code",
   "execution_count": null,
   "id": "309dc80b",
   "metadata": {},
   "outputs": [],
   "source": []
  }
 ],
 "metadata": {
  "kernelspec": {
   "display_name": "Python 3 (ipykernel)",
   "language": "python",
   "name": "python3"
  },
  "language_info": {
   "codemirror_mode": {
    "name": "ipython",
    "version": 3
   },
   "file_extension": ".py",
   "mimetype": "text/x-python",
   "name": "python",
   "nbconvert_exporter": "python",
   "pygments_lexer": "ipython3",
   "version": "3.10.4"
  }
 },
 "nbformat": 4,
 "nbformat_minor": 5
}
