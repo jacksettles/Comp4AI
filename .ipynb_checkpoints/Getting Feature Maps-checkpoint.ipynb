{
 "cells": [
  {
   "cell_type": "code",
   "execution_count": 1,
   "id": "6afded03",
   "metadata": {},
   "outputs": [],
   "source": [
    "import numpy as np\n",
    "import torch\n",
    "import torchvision.datasets\n",
    "import torchvision.models as models\n",
    "from torchvision.models import resnet50, ResNet50_Weights\n",
    "import torch.nn as nn\n",
    "import torch.nn.functional as F\n",
    "from torch.utils.data import DataLoader, Dataset\n",
    "from sklearn.model_selection import train_test_split\n",
    "import torch.utils.data as Data\n",
    "from torchvision.utils import save_image\n",
    "import torch.optim as optim\n",
    "from PIL import Image\n",
    "import torchvision.transforms as transforms\n",
    "import matplotlib.pyplot as plt\n",
    "import os\n",
    "from collections import Counter\n",
    "import glob\n",
    "import thop\n",
    "import math"
   ]
  },
  {
   "cell_type": "code",
   "execution_count": 2,
   "id": "6e365e41",
   "metadata": {},
   "outputs": [
    {
     "name": "stdout",
     "output_type": "stream",
     "text": [
      "CUDA is available. Using GPU.\n"
     ]
    }
   ],
   "source": [
    "if torch.cuda.is_available():\n",
    "    # CUDA is available, you can proceed to use it\n",
    "    device = torch.device('cuda')\n",
    "    print('CUDA is available. Using GPU.')\n",
    "else:\n",
    "    # CUDA is not available, use CPU\n",
    "    device = torch.device('cpu')\n",
    "    print('CUDA is not available. Using CPU.')"
   ]
  },
  {
   "cell_type": "markdown",
   "id": "9563e085",
   "metadata": {},
   "source": [
    "# Practice getting feature maps on CIFAR10"
   ]
  },
  {
   "cell_type": "code",
   "execution_count": 3,
   "id": "5d1fa512",
   "metadata": {},
   "outputs": [
    {
     "name": "stdout",
     "output_type": "stream",
     "text": [
      "Files already downloaded and verified\n",
      "Files already downloaded and verified\n"
     ]
    }
   ],
   "source": [
    "# ----------------- prepare training data -----------------------\n",
    "train_data = torchvision.datasets.CIFAR10(\n",
    "    root='./data.cifar10',\n",
    "    train=True,\n",
    "    transform=torchvision.transforms.ToTensor(),\n",
    "    download=True\n",
    ")\n",
    "\n",
    "# ----------------- prepare testing data -----------------------\n",
    "test_data = torchvision.datasets.CIFAR10(\n",
    "    root='./data.cifar10/',\n",
    "    train=False,\n",
    "    transform=torchvision.transforms.ToTensor(),\n",
    "    download=True)"
   ]
  },
  {
   "cell_type": "code",
   "execution_count": 4,
   "id": "64c3be9b",
   "metadata": {},
   "outputs": [],
   "source": [
    "# Make DataLoaders for the training and test data, with a batch size of 64\n",
    "train_loader = Data.DataLoader(dataset=train_data, batch_size=64, shuffle=True)\n",
    "test_loader = Data.DataLoader(dataset=test_data, batch_size=64, shuffle=False)"
   ]
  },
  {
   "cell_type": "code",
   "execution_count": 5,
   "id": "a8f0f5fb",
   "metadata": {},
   "outputs": [],
   "source": [
    "class_dict = {0: \"airplane\", 1:\"automobile\", 2:\"bird\", 3:\"cat\", 4:\"deer\", 5:\"dog\", 6:\"frog\", 7:\"horse\", 8:\"ship\", 9:\"truck\"}"
   ]
  },
  {
   "cell_type": "code",
   "execution_count": 3,
   "id": "86c2af76",
   "metadata": {},
   "outputs": [],
   "source": [
    "resnet_transform = transforms.Compose([\n",
    "    transforms.ToTensor(),\n",
    "    transforms.Normalize((0.4914, 0.4822, 0.4465), (0.2023, 0.1994, 0.2010)),\n",
    "    transforms.Resize((256,256))])"
   ]
  },
  {
   "cell_type": "markdown",
   "id": "ee0a2b9c",
   "metadata": {},
   "source": [
    "# ResNet-50 model; hook the feature maps after the max pooling"
   ]
  },
  {
   "cell_type": "code",
   "execution_count": 37,
   "id": "95a7230d",
   "metadata": {},
   "outputs": [],
   "source": [
    "resnet = resnet50(weights=ResNet50_Weights.DEFAULT)"
   ]
  },
  {
   "cell_type": "code",
   "execution_count": 38,
   "id": "f7fe047b",
   "metadata": {},
   "outputs": [
    {
     "data": {
      "text/plain": [
       "ResNet(\n",
       "  (conv1): Conv2d(3, 64, kernel_size=(7, 7), stride=(2, 2), padding=(3, 3), bias=False)\n",
       "  (bn1): BatchNorm2d(64, eps=1e-05, momentum=0.1, affine=True, track_running_stats=True)\n",
       "  (relu): ReLU(inplace=True)\n",
       "  (maxpool): MaxPool2d(kernel_size=3, stride=2, padding=1, dilation=1, ceil_mode=False)\n",
       "  (layer1): Sequential(\n",
       "    (0): Bottleneck(\n",
       "      (conv1): Conv2d(64, 64, kernel_size=(1, 1), stride=(1, 1), bias=False)\n",
       "      (bn1): BatchNorm2d(64, eps=1e-05, momentum=0.1, affine=True, track_running_stats=True)\n",
       "      (conv2): Conv2d(64, 64, kernel_size=(3, 3), stride=(1, 1), padding=(1, 1), bias=False)\n",
       "      (bn2): BatchNorm2d(64, eps=1e-05, momentum=0.1, affine=True, track_running_stats=True)\n",
       "      (conv3): Conv2d(64, 256, kernel_size=(1, 1), stride=(1, 1), bias=False)\n",
       "      (bn3): BatchNorm2d(256, eps=1e-05, momentum=0.1, affine=True, track_running_stats=True)\n",
       "      (relu): ReLU(inplace=True)\n",
       "      (downsample): Sequential(\n",
       "        (0): Conv2d(64, 256, kernel_size=(1, 1), stride=(1, 1), bias=False)\n",
       "        (1): BatchNorm2d(256, eps=1e-05, momentum=0.1, affine=True, track_running_stats=True)\n",
       "      )\n",
       "    )\n",
       "    (1): Bottleneck(\n",
       "      (conv1): Conv2d(256, 64, kernel_size=(1, 1), stride=(1, 1), bias=False)\n",
       "      (bn1): BatchNorm2d(64, eps=1e-05, momentum=0.1, affine=True, track_running_stats=True)\n",
       "      (conv2): Conv2d(64, 64, kernel_size=(3, 3), stride=(1, 1), padding=(1, 1), bias=False)\n",
       "      (bn2): BatchNorm2d(64, eps=1e-05, momentum=0.1, affine=True, track_running_stats=True)\n",
       "      (conv3): Conv2d(64, 256, kernel_size=(1, 1), stride=(1, 1), bias=False)\n",
       "      (bn3): BatchNorm2d(256, eps=1e-05, momentum=0.1, affine=True, track_running_stats=True)\n",
       "      (relu): ReLU(inplace=True)\n",
       "    )\n",
       "    (2): Bottleneck(\n",
       "      (conv1): Conv2d(256, 64, kernel_size=(1, 1), stride=(1, 1), bias=False)\n",
       "      (bn1): BatchNorm2d(64, eps=1e-05, momentum=0.1, affine=True, track_running_stats=True)\n",
       "      (conv2): Conv2d(64, 64, kernel_size=(3, 3), stride=(1, 1), padding=(1, 1), bias=False)\n",
       "      (bn2): BatchNorm2d(64, eps=1e-05, momentum=0.1, affine=True, track_running_stats=True)\n",
       "      (conv3): Conv2d(64, 256, kernel_size=(1, 1), stride=(1, 1), bias=False)\n",
       "      (bn3): BatchNorm2d(256, eps=1e-05, momentum=0.1, affine=True, track_running_stats=True)\n",
       "      (relu): ReLU(inplace=True)\n",
       "    )\n",
       "  )\n",
       "  (layer2): Sequential(\n",
       "    (0): Bottleneck(\n",
       "      (conv1): Conv2d(256, 128, kernel_size=(1, 1), stride=(1, 1), bias=False)\n",
       "      (bn1): BatchNorm2d(128, eps=1e-05, momentum=0.1, affine=True, track_running_stats=True)\n",
       "      (conv2): Conv2d(128, 128, kernel_size=(3, 3), stride=(2, 2), padding=(1, 1), bias=False)\n",
       "      (bn2): BatchNorm2d(128, eps=1e-05, momentum=0.1, affine=True, track_running_stats=True)\n",
       "      (conv3): Conv2d(128, 512, kernel_size=(1, 1), stride=(1, 1), bias=False)\n",
       "      (bn3): BatchNorm2d(512, eps=1e-05, momentum=0.1, affine=True, track_running_stats=True)\n",
       "      (relu): ReLU(inplace=True)\n",
       "      (downsample): Sequential(\n",
       "        (0): Conv2d(256, 512, kernel_size=(1, 1), stride=(2, 2), bias=False)\n",
       "        (1): BatchNorm2d(512, eps=1e-05, momentum=0.1, affine=True, track_running_stats=True)\n",
       "      )\n",
       "    )\n",
       "    (1): Bottleneck(\n",
       "      (conv1): Conv2d(512, 128, kernel_size=(1, 1), stride=(1, 1), bias=False)\n",
       "      (bn1): BatchNorm2d(128, eps=1e-05, momentum=0.1, affine=True, track_running_stats=True)\n",
       "      (conv2): Conv2d(128, 128, kernel_size=(3, 3), stride=(1, 1), padding=(1, 1), bias=False)\n",
       "      (bn2): BatchNorm2d(128, eps=1e-05, momentum=0.1, affine=True, track_running_stats=True)\n",
       "      (conv3): Conv2d(128, 512, kernel_size=(1, 1), stride=(1, 1), bias=False)\n",
       "      (bn3): BatchNorm2d(512, eps=1e-05, momentum=0.1, affine=True, track_running_stats=True)\n",
       "      (relu): ReLU(inplace=True)\n",
       "    )\n",
       "    (2): Bottleneck(\n",
       "      (conv1): Conv2d(512, 128, kernel_size=(1, 1), stride=(1, 1), bias=False)\n",
       "      (bn1): BatchNorm2d(128, eps=1e-05, momentum=0.1, affine=True, track_running_stats=True)\n",
       "      (conv2): Conv2d(128, 128, kernel_size=(3, 3), stride=(1, 1), padding=(1, 1), bias=False)\n",
       "      (bn2): BatchNorm2d(128, eps=1e-05, momentum=0.1, affine=True, track_running_stats=True)\n",
       "      (conv3): Conv2d(128, 512, kernel_size=(1, 1), stride=(1, 1), bias=False)\n",
       "      (bn3): BatchNorm2d(512, eps=1e-05, momentum=0.1, affine=True, track_running_stats=True)\n",
       "      (relu): ReLU(inplace=True)\n",
       "    )\n",
       "    (3): Bottleneck(\n",
       "      (conv1): Conv2d(512, 128, kernel_size=(1, 1), stride=(1, 1), bias=False)\n",
       "      (bn1): BatchNorm2d(128, eps=1e-05, momentum=0.1, affine=True, track_running_stats=True)\n",
       "      (conv2): Conv2d(128, 128, kernel_size=(3, 3), stride=(1, 1), padding=(1, 1), bias=False)\n",
       "      (bn2): BatchNorm2d(128, eps=1e-05, momentum=0.1, affine=True, track_running_stats=True)\n",
       "      (conv3): Conv2d(128, 512, kernel_size=(1, 1), stride=(1, 1), bias=False)\n",
       "      (bn3): BatchNorm2d(512, eps=1e-05, momentum=0.1, affine=True, track_running_stats=True)\n",
       "      (relu): ReLU(inplace=True)\n",
       "    )\n",
       "  )\n",
       "  (layer3): Sequential(\n",
       "    (0): Bottleneck(\n",
       "      (conv1): Conv2d(512, 256, kernel_size=(1, 1), stride=(1, 1), bias=False)\n",
       "      (bn1): BatchNorm2d(256, eps=1e-05, momentum=0.1, affine=True, track_running_stats=True)\n",
       "      (conv2): Conv2d(256, 256, kernel_size=(3, 3), stride=(2, 2), padding=(1, 1), bias=False)\n",
       "      (bn2): BatchNorm2d(256, eps=1e-05, momentum=0.1, affine=True, track_running_stats=True)\n",
       "      (conv3): Conv2d(256, 1024, kernel_size=(1, 1), stride=(1, 1), bias=False)\n",
       "      (bn3): BatchNorm2d(1024, eps=1e-05, momentum=0.1, affine=True, track_running_stats=True)\n",
       "      (relu): ReLU(inplace=True)\n",
       "      (downsample): Sequential(\n",
       "        (0): Conv2d(512, 1024, kernel_size=(1, 1), stride=(2, 2), bias=False)\n",
       "        (1): BatchNorm2d(1024, eps=1e-05, momentum=0.1, affine=True, track_running_stats=True)\n",
       "      )\n",
       "    )\n",
       "    (1): Bottleneck(\n",
       "      (conv1): Conv2d(1024, 256, kernel_size=(1, 1), stride=(1, 1), bias=False)\n",
       "      (bn1): BatchNorm2d(256, eps=1e-05, momentum=0.1, affine=True, track_running_stats=True)\n",
       "      (conv2): Conv2d(256, 256, kernel_size=(3, 3), stride=(1, 1), padding=(1, 1), bias=False)\n",
       "      (bn2): BatchNorm2d(256, eps=1e-05, momentum=0.1, affine=True, track_running_stats=True)\n",
       "      (conv3): Conv2d(256, 1024, kernel_size=(1, 1), stride=(1, 1), bias=False)\n",
       "      (bn3): BatchNorm2d(1024, eps=1e-05, momentum=0.1, affine=True, track_running_stats=True)\n",
       "      (relu): ReLU(inplace=True)\n",
       "    )\n",
       "    (2): Bottleneck(\n",
       "      (conv1): Conv2d(1024, 256, kernel_size=(1, 1), stride=(1, 1), bias=False)\n",
       "      (bn1): BatchNorm2d(256, eps=1e-05, momentum=0.1, affine=True, track_running_stats=True)\n",
       "      (conv2): Conv2d(256, 256, kernel_size=(3, 3), stride=(1, 1), padding=(1, 1), bias=False)\n",
       "      (bn2): BatchNorm2d(256, eps=1e-05, momentum=0.1, affine=True, track_running_stats=True)\n",
       "      (conv3): Conv2d(256, 1024, kernel_size=(1, 1), stride=(1, 1), bias=False)\n",
       "      (bn3): BatchNorm2d(1024, eps=1e-05, momentum=0.1, affine=True, track_running_stats=True)\n",
       "      (relu): ReLU(inplace=True)\n",
       "    )\n",
       "    (3): Bottleneck(\n",
       "      (conv1): Conv2d(1024, 256, kernel_size=(1, 1), stride=(1, 1), bias=False)\n",
       "      (bn1): BatchNorm2d(256, eps=1e-05, momentum=0.1, affine=True, track_running_stats=True)\n",
       "      (conv2): Conv2d(256, 256, kernel_size=(3, 3), stride=(1, 1), padding=(1, 1), bias=False)\n",
       "      (bn2): BatchNorm2d(256, eps=1e-05, momentum=0.1, affine=True, track_running_stats=True)\n",
       "      (conv3): Conv2d(256, 1024, kernel_size=(1, 1), stride=(1, 1), bias=False)\n",
       "      (bn3): BatchNorm2d(1024, eps=1e-05, momentum=0.1, affine=True, track_running_stats=True)\n",
       "      (relu): ReLU(inplace=True)\n",
       "    )\n",
       "    (4): Bottleneck(\n",
       "      (conv1): Conv2d(1024, 256, kernel_size=(1, 1), stride=(1, 1), bias=False)\n",
       "      (bn1): BatchNorm2d(256, eps=1e-05, momentum=0.1, affine=True, track_running_stats=True)\n",
       "      (conv2): Conv2d(256, 256, kernel_size=(3, 3), stride=(1, 1), padding=(1, 1), bias=False)\n",
       "      (bn2): BatchNorm2d(256, eps=1e-05, momentum=0.1, affine=True, track_running_stats=True)\n",
       "      (conv3): Conv2d(256, 1024, kernel_size=(1, 1), stride=(1, 1), bias=False)\n",
       "      (bn3): BatchNorm2d(1024, eps=1e-05, momentum=0.1, affine=True, track_running_stats=True)\n",
       "      (relu): ReLU(inplace=True)\n",
       "    )\n",
       "    (5): Bottleneck(\n",
       "      (conv1): Conv2d(1024, 256, kernel_size=(1, 1), stride=(1, 1), bias=False)\n",
       "      (bn1): BatchNorm2d(256, eps=1e-05, momentum=0.1, affine=True, track_running_stats=True)\n",
       "      (conv2): Conv2d(256, 256, kernel_size=(3, 3), stride=(1, 1), padding=(1, 1), bias=False)\n",
       "      (bn2): BatchNorm2d(256, eps=1e-05, momentum=0.1, affine=True, track_running_stats=True)\n",
       "      (conv3): Conv2d(256, 1024, kernel_size=(1, 1), stride=(1, 1), bias=False)\n",
       "      (bn3): BatchNorm2d(1024, eps=1e-05, momentum=0.1, affine=True, track_running_stats=True)\n",
       "      (relu): ReLU(inplace=True)\n",
       "    )\n",
       "  )\n",
       "  (layer4): Sequential(\n",
       "    (0): Bottleneck(\n",
       "      (conv1): Conv2d(1024, 512, kernel_size=(1, 1), stride=(1, 1), bias=False)\n",
       "      (bn1): BatchNorm2d(512, eps=1e-05, momentum=0.1, affine=True, track_running_stats=True)\n",
       "      (conv2): Conv2d(512, 512, kernel_size=(3, 3), stride=(2, 2), padding=(1, 1), bias=False)\n",
       "      (bn2): BatchNorm2d(512, eps=1e-05, momentum=0.1, affine=True, track_running_stats=True)\n",
       "      (conv3): Conv2d(512, 2048, kernel_size=(1, 1), stride=(1, 1), bias=False)\n",
       "      (bn3): BatchNorm2d(2048, eps=1e-05, momentum=0.1, affine=True, track_running_stats=True)\n",
       "      (relu): ReLU(inplace=True)\n",
       "      (downsample): Sequential(\n",
       "        (0): Conv2d(1024, 2048, kernel_size=(1, 1), stride=(2, 2), bias=False)\n",
       "        (1): BatchNorm2d(2048, eps=1e-05, momentum=0.1, affine=True, track_running_stats=True)\n",
       "      )\n",
       "    )\n",
       "    (1): Bottleneck(\n",
       "      (conv1): Conv2d(2048, 512, kernel_size=(1, 1), stride=(1, 1), bias=False)\n",
       "      (bn1): BatchNorm2d(512, eps=1e-05, momentum=0.1, affine=True, track_running_stats=True)\n",
       "      (conv2): Conv2d(512, 512, kernel_size=(3, 3), stride=(1, 1), padding=(1, 1), bias=False)\n",
       "      (bn2): BatchNorm2d(512, eps=1e-05, momentum=0.1, affine=True, track_running_stats=True)\n",
       "      (conv3): Conv2d(512, 2048, kernel_size=(1, 1), stride=(1, 1), bias=False)\n",
       "      (bn3): BatchNorm2d(2048, eps=1e-05, momentum=0.1, affine=True, track_running_stats=True)\n",
       "      (relu): ReLU(inplace=True)\n",
       "    )\n",
       "    (2): Bottleneck(\n",
       "      (conv1): Conv2d(2048, 512, kernel_size=(1, 1), stride=(1, 1), bias=False)\n",
       "      (bn1): BatchNorm2d(512, eps=1e-05, momentum=0.1, affine=True, track_running_stats=True)\n",
       "      (conv2): Conv2d(512, 512, kernel_size=(3, 3), stride=(1, 1), padding=(1, 1), bias=False)\n",
       "      (bn2): BatchNorm2d(512, eps=1e-05, momentum=0.1, affine=True, track_running_stats=True)\n",
       "      (conv3): Conv2d(512, 2048, kernel_size=(1, 1), stride=(1, 1), bias=False)\n",
       "      (bn3): BatchNorm2d(2048, eps=1e-05, momentum=0.1, affine=True, track_running_stats=True)\n",
       "      (relu): ReLU(inplace=True)\n",
       "    )\n",
       "  )\n",
       "  (avgpool): AdaptiveAvgPool2d(output_size=(1, 1))\n",
       "  (fc): Linear(in_features=2048, out_features=1000, bias=True)\n",
       ")"
      ]
     },
     "execution_count": 38,
     "metadata": {},
     "output_type": "execute_result"
    }
   ],
   "source": [
    "resnet.eval()"
   ]
  },
  {
   "cell_type": "code",
   "execution_count": 39,
   "id": "4b6b9b6d",
   "metadata": {},
   "outputs": [],
   "source": [
    "num_classes = 10\n",
    "resnet.fc = nn.Linear(2048, num_classes)"
   ]
  },
  {
   "cell_type": "code",
   "execution_count": 40,
   "id": "6d2bffce",
   "metadata": {},
   "outputs": [
    {
     "data": {
      "text/plain": [
       "ResNet(\n",
       "  (conv1): Conv2d(3, 64, kernel_size=(7, 7), stride=(2, 2), padding=(3, 3), bias=False)\n",
       "  (bn1): BatchNorm2d(64, eps=1e-05, momentum=0.1, affine=True, track_running_stats=True)\n",
       "  (relu): ReLU(inplace=True)\n",
       "  (maxpool): MaxPool2d(kernel_size=3, stride=2, padding=1, dilation=1, ceil_mode=False)\n",
       "  (layer1): Sequential(\n",
       "    (0): Bottleneck(\n",
       "      (conv1): Conv2d(64, 64, kernel_size=(1, 1), stride=(1, 1), bias=False)\n",
       "      (bn1): BatchNorm2d(64, eps=1e-05, momentum=0.1, affine=True, track_running_stats=True)\n",
       "      (conv2): Conv2d(64, 64, kernel_size=(3, 3), stride=(1, 1), padding=(1, 1), bias=False)\n",
       "      (bn2): BatchNorm2d(64, eps=1e-05, momentum=0.1, affine=True, track_running_stats=True)\n",
       "      (conv3): Conv2d(64, 256, kernel_size=(1, 1), stride=(1, 1), bias=False)\n",
       "      (bn3): BatchNorm2d(256, eps=1e-05, momentum=0.1, affine=True, track_running_stats=True)\n",
       "      (relu): ReLU(inplace=True)\n",
       "      (downsample): Sequential(\n",
       "        (0): Conv2d(64, 256, kernel_size=(1, 1), stride=(1, 1), bias=False)\n",
       "        (1): BatchNorm2d(256, eps=1e-05, momentum=0.1, affine=True, track_running_stats=True)\n",
       "      )\n",
       "    )\n",
       "    (1): Bottleneck(\n",
       "      (conv1): Conv2d(256, 64, kernel_size=(1, 1), stride=(1, 1), bias=False)\n",
       "      (bn1): BatchNorm2d(64, eps=1e-05, momentum=0.1, affine=True, track_running_stats=True)\n",
       "      (conv2): Conv2d(64, 64, kernel_size=(3, 3), stride=(1, 1), padding=(1, 1), bias=False)\n",
       "      (bn2): BatchNorm2d(64, eps=1e-05, momentum=0.1, affine=True, track_running_stats=True)\n",
       "      (conv3): Conv2d(64, 256, kernel_size=(1, 1), stride=(1, 1), bias=False)\n",
       "      (bn3): BatchNorm2d(256, eps=1e-05, momentum=0.1, affine=True, track_running_stats=True)\n",
       "      (relu): ReLU(inplace=True)\n",
       "    )\n",
       "    (2): Bottleneck(\n",
       "      (conv1): Conv2d(256, 64, kernel_size=(1, 1), stride=(1, 1), bias=False)\n",
       "      (bn1): BatchNorm2d(64, eps=1e-05, momentum=0.1, affine=True, track_running_stats=True)\n",
       "      (conv2): Conv2d(64, 64, kernel_size=(3, 3), stride=(1, 1), padding=(1, 1), bias=False)\n",
       "      (bn2): BatchNorm2d(64, eps=1e-05, momentum=0.1, affine=True, track_running_stats=True)\n",
       "      (conv3): Conv2d(64, 256, kernel_size=(1, 1), stride=(1, 1), bias=False)\n",
       "      (bn3): BatchNorm2d(256, eps=1e-05, momentum=0.1, affine=True, track_running_stats=True)\n",
       "      (relu): ReLU(inplace=True)\n",
       "    )\n",
       "  )\n",
       "  (layer2): Sequential(\n",
       "    (0): Bottleneck(\n",
       "      (conv1): Conv2d(256, 128, kernel_size=(1, 1), stride=(1, 1), bias=False)\n",
       "      (bn1): BatchNorm2d(128, eps=1e-05, momentum=0.1, affine=True, track_running_stats=True)\n",
       "      (conv2): Conv2d(128, 128, kernel_size=(3, 3), stride=(2, 2), padding=(1, 1), bias=False)\n",
       "      (bn2): BatchNorm2d(128, eps=1e-05, momentum=0.1, affine=True, track_running_stats=True)\n",
       "      (conv3): Conv2d(128, 512, kernel_size=(1, 1), stride=(1, 1), bias=False)\n",
       "      (bn3): BatchNorm2d(512, eps=1e-05, momentum=0.1, affine=True, track_running_stats=True)\n",
       "      (relu): ReLU(inplace=True)\n",
       "      (downsample): Sequential(\n",
       "        (0): Conv2d(256, 512, kernel_size=(1, 1), stride=(2, 2), bias=False)\n",
       "        (1): BatchNorm2d(512, eps=1e-05, momentum=0.1, affine=True, track_running_stats=True)\n",
       "      )\n",
       "    )\n",
       "    (1): Bottleneck(\n",
       "      (conv1): Conv2d(512, 128, kernel_size=(1, 1), stride=(1, 1), bias=False)\n",
       "      (bn1): BatchNorm2d(128, eps=1e-05, momentum=0.1, affine=True, track_running_stats=True)\n",
       "      (conv2): Conv2d(128, 128, kernel_size=(3, 3), stride=(1, 1), padding=(1, 1), bias=False)\n",
       "      (bn2): BatchNorm2d(128, eps=1e-05, momentum=0.1, affine=True, track_running_stats=True)\n",
       "      (conv3): Conv2d(128, 512, kernel_size=(1, 1), stride=(1, 1), bias=False)\n",
       "      (bn3): BatchNorm2d(512, eps=1e-05, momentum=0.1, affine=True, track_running_stats=True)\n",
       "      (relu): ReLU(inplace=True)\n",
       "    )\n",
       "    (2): Bottleneck(\n",
       "      (conv1): Conv2d(512, 128, kernel_size=(1, 1), stride=(1, 1), bias=False)\n",
       "      (bn1): BatchNorm2d(128, eps=1e-05, momentum=0.1, affine=True, track_running_stats=True)\n",
       "      (conv2): Conv2d(128, 128, kernel_size=(3, 3), stride=(1, 1), padding=(1, 1), bias=False)\n",
       "      (bn2): BatchNorm2d(128, eps=1e-05, momentum=0.1, affine=True, track_running_stats=True)\n",
       "      (conv3): Conv2d(128, 512, kernel_size=(1, 1), stride=(1, 1), bias=False)\n",
       "      (bn3): BatchNorm2d(512, eps=1e-05, momentum=0.1, affine=True, track_running_stats=True)\n",
       "      (relu): ReLU(inplace=True)\n",
       "    )\n",
       "    (3): Bottleneck(\n",
       "      (conv1): Conv2d(512, 128, kernel_size=(1, 1), stride=(1, 1), bias=False)\n",
       "      (bn1): BatchNorm2d(128, eps=1e-05, momentum=0.1, affine=True, track_running_stats=True)\n",
       "      (conv2): Conv2d(128, 128, kernel_size=(3, 3), stride=(1, 1), padding=(1, 1), bias=False)\n",
       "      (bn2): BatchNorm2d(128, eps=1e-05, momentum=0.1, affine=True, track_running_stats=True)\n",
       "      (conv3): Conv2d(128, 512, kernel_size=(1, 1), stride=(1, 1), bias=False)\n",
       "      (bn3): BatchNorm2d(512, eps=1e-05, momentum=0.1, affine=True, track_running_stats=True)\n",
       "      (relu): ReLU(inplace=True)\n",
       "    )\n",
       "  )\n",
       "  (layer3): Sequential(\n",
       "    (0): Bottleneck(\n",
       "      (conv1): Conv2d(512, 256, kernel_size=(1, 1), stride=(1, 1), bias=False)\n",
       "      (bn1): BatchNorm2d(256, eps=1e-05, momentum=0.1, affine=True, track_running_stats=True)\n",
       "      (conv2): Conv2d(256, 256, kernel_size=(3, 3), stride=(2, 2), padding=(1, 1), bias=False)\n",
       "      (bn2): BatchNorm2d(256, eps=1e-05, momentum=0.1, affine=True, track_running_stats=True)\n",
       "      (conv3): Conv2d(256, 1024, kernel_size=(1, 1), stride=(1, 1), bias=False)\n",
       "      (bn3): BatchNorm2d(1024, eps=1e-05, momentum=0.1, affine=True, track_running_stats=True)\n",
       "      (relu): ReLU(inplace=True)\n",
       "      (downsample): Sequential(\n",
       "        (0): Conv2d(512, 1024, kernel_size=(1, 1), stride=(2, 2), bias=False)\n",
       "        (1): BatchNorm2d(1024, eps=1e-05, momentum=0.1, affine=True, track_running_stats=True)\n",
       "      )\n",
       "    )\n",
       "    (1): Bottleneck(\n",
       "      (conv1): Conv2d(1024, 256, kernel_size=(1, 1), stride=(1, 1), bias=False)\n",
       "      (bn1): BatchNorm2d(256, eps=1e-05, momentum=0.1, affine=True, track_running_stats=True)\n",
       "      (conv2): Conv2d(256, 256, kernel_size=(3, 3), stride=(1, 1), padding=(1, 1), bias=False)\n",
       "      (bn2): BatchNorm2d(256, eps=1e-05, momentum=0.1, affine=True, track_running_stats=True)\n",
       "      (conv3): Conv2d(256, 1024, kernel_size=(1, 1), stride=(1, 1), bias=False)\n",
       "      (bn3): BatchNorm2d(1024, eps=1e-05, momentum=0.1, affine=True, track_running_stats=True)\n",
       "      (relu): ReLU(inplace=True)\n",
       "    )\n",
       "    (2): Bottleneck(\n",
       "      (conv1): Conv2d(1024, 256, kernel_size=(1, 1), stride=(1, 1), bias=False)\n",
       "      (bn1): BatchNorm2d(256, eps=1e-05, momentum=0.1, affine=True, track_running_stats=True)\n",
       "      (conv2): Conv2d(256, 256, kernel_size=(3, 3), stride=(1, 1), padding=(1, 1), bias=False)\n",
       "      (bn2): BatchNorm2d(256, eps=1e-05, momentum=0.1, affine=True, track_running_stats=True)\n",
       "      (conv3): Conv2d(256, 1024, kernel_size=(1, 1), stride=(1, 1), bias=False)\n",
       "      (bn3): BatchNorm2d(1024, eps=1e-05, momentum=0.1, affine=True, track_running_stats=True)\n",
       "      (relu): ReLU(inplace=True)\n",
       "    )\n",
       "    (3): Bottleneck(\n",
       "      (conv1): Conv2d(1024, 256, kernel_size=(1, 1), stride=(1, 1), bias=False)\n",
       "      (bn1): BatchNorm2d(256, eps=1e-05, momentum=0.1, affine=True, track_running_stats=True)\n",
       "      (conv2): Conv2d(256, 256, kernel_size=(3, 3), stride=(1, 1), padding=(1, 1), bias=False)\n",
       "      (bn2): BatchNorm2d(256, eps=1e-05, momentum=0.1, affine=True, track_running_stats=True)\n",
       "      (conv3): Conv2d(256, 1024, kernel_size=(1, 1), stride=(1, 1), bias=False)\n",
       "      (bn3): BatchNorm2d(1024, eps=1e-05, momentum=0.1, affine=True, track_running_stats=True)\n",
       "      (relu): ReLU(inplace=True)\n",
       "    )\n",
       "    (4): Bottleneck(\n",
       "      (conv1): Conv2d(1024, 256, kernel_size=(1, 1), stride=(1, 1), bias=False)\n",
       "      (bn1): BatchNorm2d(256, eps=1e-05, momentum=0.1, affine=True, track_running_stats=True)\n",
       "      (conv2): Conv2d(256, 256, kernel_size=(3, 3), stride=(1, 1), padding=(1, 1), bias=False)\n",
       "      (bn2): BatchNorm2d(256, eps=1e-05, momentum=0.1, affine=True, track_running_stats=True)\n",
       "      (conv3): Conv2d(256, 1024, kernel_size=(1, 1), stride=(1, 1), bias=False)\n",
       "      (bn3): BatchNorm2d(1024, eps=1e-05, momentum=0.1, affine=True, track_running_stats=True)\n",
       "      (relu): ReLU(inplace=True)\n",
       "    )\n",
       "    (5): Bottleneck(\n",
       "      (conv1): Conv2d(1024, 256, kernel_size=(1, 1), stride=(1, 1), bias=False)\n",
       "      (bn1): BatchNorm2d(256, eps=1e-05, momentum=0.1, affine=True, track_running_stats=True)\n",
       "      (conv2): Conv2d(256, 256, kernel_size=(3, 3), stride=(1, 1), padding=(1, 1), bias=False)\n",
       "      (bn2): BatchNorm2d(256, eps=1e-05, momentum=0.1, affine=True, track_running_stats=True)\n",
       "      (conv3): Conv2d(256, 1024, kernel_size=(1, 1), stride=(1, 1), bias=False)\n",
       "      (bn3): BatchNorm2d(1024, eps=1e-05, momentum=0.1, affine=True, track_running_stats=True)\n",
       "      (relu): ReLU(inplace=True)\n",
       "    )\n",
       "  )\n",
       "  (layer4): Sequential(\n",
       "    (0): Bottleneck(\n",
       "      (conv1): Conv2d(1024, 512, kernel_size=(1, 1), stride=(1, 1), bias=False)\n",
       "      (bn1): BatchNorm2d(512, eps=1e-05, momentum=0.1, affine=True, track_running_stats=True)\n",
       "      (conv2): Conv2d(512, 512, kernel_size=(3, 3), stride=(2, 2), padding=(1, 1), bias=False)\n",
       "      (bn2): BatchNorm2d(512, eps=1e-05, momentum=0.1, affine=True, track_running_stats=True)\n",
       "      (conv3): Conv2d(512, 2048, kernel_size=(1, 1), stride=(1, 1), bias=False)\n",
       "      (bn3): BatchNorm2d(2048, eps=1e-05, momentum=0.1, affine=True, track_running_stats=True)\n",
       "      (relu): ReLU(inplace=True)\n",
       "      (downsample): Sequential(\n",
       "        (0): Conv2d(1024, 2048, kernel_size=(1, 1), stride=(2, 2), bias=False)\n",
       "        (1): BatchNorm2d(2048, eps=1e-05, momentum=0.1, affine=True, track_running_stats=True)\n",
       "      )\n",
       "    )\n",
       "    (1): Bottleneck(\n",
       "      (conv1): Conv2d(2048, 512, kernel_size=(1, 1), stride=(1, 1), bias=False)\n",
       "      (bn1): BatchNorm2d(512, eps=1e-05, momentum=0.1, affine=True, track_running_stats=True)\n",
       "      (conv2): Conv2d(512, 512, kernel_size=(3, 3), stride=(1, 1), padding=(1, 1), bias=False)\n",
       "      (bn2): BatchNorm2d(512, eps=1e-05, momentum=0.1, affine=True, track_running_stats=True)\n",
       "      (conv3): Conv2d(512, 2048, kernel_size=(1, 1), stride=(1, 1), bias=False)\n",
       "      (bn3): BatchNorm2d(2048, eps=1e-05, momentum=0.1, affine=True, track_running_stats=True)\n",
       "      (relu): ReLU(inplace=True)\n",
       "    )\n",
       "    (2): Bottleneck(\n",
       "      (conv1): Conv2d(2048, 512, kernel_size=(1, 1), stride=(1, 1), bias=False)\n",
       "      (bn1): BatchNorm2d(512, eps=1e-05, momentum=0.1, affine=True, track_running_stats=True)\n",
       "      (conv2): Conv2d(512, 512, kernel_size=(3, 3), stride=(1, 1), padding=(1, 1), bias=False)\n",
       "      (bn2): BatchNorm2d(512, eps=1e-05, momentum=0.1, affine=True, track_running_stats=True)\n",
       "      (conv3): Conv2d(512, 2048, kernel_size=(1, 1), stride=(1, 1), bias=False)\n",
       "      (bn3): BatchNorm2d(2048, eps=1e-05, momentum=0.1, affine=True, track_running_stats=True)\n",
       "      (relu): ReLU(inplace=True)\n",
       "    )\n",
       "  )\n",
       "  (avgpool): AdaptiveAvgPool2d(output_size=(1, 1))\n",
       "  (fc): Linear(in_features=2048, out_features=10, bias=True)\n",
       ")"
      ]
     },
     "execution_count": 40,
     "metadata": {},
     "output_type": "execute_result"
    }
   ],
   "source": [
    "resnet"
   ]
  },
  {
   "cell_type": "code",
   "execution_count": 41,
   "id": "d994d575",
   "metadata": {},
   "outputs": [],
   "source": [
    "resnet = resnet.to(device)"
   ]
  },
  {
   "cell_type": "markdown",
   "id": "f97907c0",
   "metadata": {},
   "source": [
    "# tiny-imagenet images"
   ]
  },
  {
   "cell_type": "code",
   "execution_count": 10,
   "id": "6c2577b9",
   "metadata": {},
   "outputs": [],
   "source": [
    "tiny_imagenet_classes = ['n02410509',\n",
    "                         'n02106662',\n",
    "                         'n07734744',\n",
    "                         'n07873807',\n",
    "                         'n07920052',\n",
    "                         'n09428293',\n",
    "                         'n01910747',\n",
    "                         'n01882714',\n",
    "                         'n04285008',\n",
    "                         'n04146614']"
   ]
  },
  {
   "cell_type": "code",
   "execution_count": 11,
   "id": "7ed1d754",
   "metadata": {},
   "outputs": [],
   "source": [
    "current_directory = \".\""
   ]
  },
  {
   "cell_type": "code",
   "execution_count": 42,
   "id": "cc5aaa91",
   "metadata": {},
   "outputs": [],
   "source": [
    "pattern = 'subclasses-tiny-imagenet/*/images/*.JPEG'"
   ]
  },
  {
   "cell_type": "code",
   "execution_count": 43,
   "id": "2cde4fe1",
   "metadata": {},
   "outputs": [],
   "source": [
    "jpeg_files = glob.glob(pattern, recursive=True)"
   ]
  },
  {
   "cell_type": "code",
   "execution_count": 44,
   "id": "391cf882",
   "metadata": {},
   "outputs": [
    {
     "data": {
      "text/plain": [
       "5000"
      ]
     },
     "execution_count": 44,
     "metadata": {},
     "output_type": "execute_result"
    }
   ],
   "source": [
    "len(jpeg_files)"
   ]
  },
  {
   "cell_type": "code",
   "execution_count": 45,
   "id": "01efea50",
   "metadata": {},
   "outputs": [],
   "source": [
    "stage1_files = jpeg_files[:]"
   ]
  },
  {
   "cell_type": "code",
   "execution_count": 46,
   "id": "c31df11b",
   "metadata": {},
   "outputs": [
    {
     "data": {
      "text/plain": [
       "'subclasses-tiny-imagenet/n07920052/images/n07920052_389.JPEG'"
      ]
     },
     "execution_count": 46,
     "metadata": {},
     "output_type": "execute_result"
    }
   ],
   "source": [
    "stage1_files[0]"
   ]
  },
  {
   "cell_type": "code",
   "execution_count": 47,
   "id": "417f1198",
   "metadata": {},
   "outputs": [],
   "source": [
    "stage2_files = jpeg_files[::4]"
   ]
  },
  {
   "cell_type": "code",
   "execution_count": 48,
   "id": "f68fe74b",
   "metadata": {},
   "outputs": [
    {
     "data": {
      "text/plain": [
       "1250"
      ]
     },
     "execution_count": 48,
     "metadata": {},
     "output_type": "execute_result"
    }
   ],
   "source": [
    "len(stage2_files)"
   ]
  },
  {
   "cell_type": "code",
   "execution_count": 49,
   "id": "214133cd",
   "metadata": {},
   "outputs": [],
   "source": [
    "def create_img_data(block_name: str, files: list):\n",
    "\n",
    "    for x in files:\n",
    "        file_path = x\n",
    "        \n",
    "        # Split the file string\n",
    "        split_file = x.split('/')\n",
    "        class_wnid = split_file[1]\n",
    "        file_name = split_file[3]\n",
    "        \n",
    "        with Image.open(file_path) as img:\n",
    "            \n",
    "            # Convert grayscale images to RGB\n",
    "            if img.mode == 'L':\n",
    "                img = img.convert('RGB')\n",
    "            \n",
    "            img_tensor = resnet_transform(img).unsqueeze(0)\n",
    "            img_tensor = img_tensor.to(device)\n",
    "            # Pass through the model, and get the feature maps that come out of wherever\n",
    "            # the hook was placed\n",
    "            outputs = resnet(img_tensor)\n",
    "            feature_maps = first_conv_features[0]\n",
    "            feature_maps = feature_maps.detach().cpu().numpy() # Have to call this to turn tensor into numpy array\n",
    "\n",
    "            plot_img(feature_maps)\n",
    "            break\n",
    "\n",
    "            file_name = file_name.split('.')[0]\n",
    "            file_name = f\"{file_name}_feature_maps\"\n",
    "            save_dir = f\"resnet50/{block_name}_input_data/{class_wnid}\"\n",
    "            \n",
    "            if not os.path.exists(save_dir):\n",
    "                os.makedirs(save_dir)\n",
    "            \n",
    "            np.save(f\"{save_dir}/{file_name}.npy\", feature_maps)"
   ]
  },
  {
   "cell_type": "code",
   "execution_count": 53,
   "id": "c560d894",
   "metadata": {},
   "outputs": [
    {
     "name": "stdout",
     "output_type": "stream",
     "text": [
      "64\n"
     ]
    },
    {
     "data": {
      "image/png": "[encoded data removed]",
      "text/plain": [
       "<Figure size 432x288 with 64 Axes>"
      ]
     },
     "metadata": {
      "needs_background": "light"
     },
     "output_type": "display_data"
    }
   ],
   "source": [
    "first_conv_features = None\n",
    "\n",
    "def hook_fn(module, input, output):\n",
    "    global first_conv_features\n",
    "    first_conv_features = output\n",
    "\n",
    "hook_handle = resnet.maxpool.register_forward_hook(hook_fn)\n",
    "create_img_data(\"cfg0\", stage1_files)\n",
    "hook_handle.remove()\n",
    "\n",
    "# hook_handle = resnet.layer1[-1].register_forward_hook(hook_fn)\n",
    "# create_img_data(\"cfg1\", stage2_files)\n",
    "# hook_handle.remove()"
   ]
  },
  {
   "cell_type": "markdown",
   "id": "a3accd09",
   "metadata": {},
   "source": [
    "# Pass images through ResNet, but turn off some of the feature maps"
   ]
  },
  {
   "cell_type": "code",
   "execution_count": 14,
   "id": "1e4cc148",
   "metadata": {},
   "outputs": [],
   "source": [
    "class FineTuningDataset(Dataset):\n",
    "    def __init__(self, data, transform = resnet_transform):\n",
    "        '''class_dict = {'n02410509':347,\n",
    "                      'n02106662':235,\n",
    "                      'n07734744':947,\n",
    "                      'n07873807':963,\n",
    "                      'n07920052':967,\n",
    "                      'n09428293':978,\n",
    "                      'n01910747':107,\n",
    "                      'n01882714':105,\n",
    "                      'n04285008':817,\n",
    "                      'n04146614':779}'''\n",
    "        \n",
    "        class_dict = {'n02410509':0,\n",
    "                      'n02106662':1,\n",
    "                      'n07734744':2,\n",
    "                      'n07873807':3,\n",
    "                      'n07920052':4,\n",
    "                      'n09428293':5,\n",
    "                      'n01910747':6,\n",
    "                      'n01882714':7,\n",
    "                      'n04285008':8,\n",
    "                      'n04146614':9}\n",
    "        \n",
    "        data_and_labels = []\n",
    "        for i in range(len(data)):\n",
    "            file_path = data[i]\n",
    "        \n",
    "            # Split the file string\n",
    "            split_file = data[i].split('/')\n",
    "            class_wnid = split_file[1]\n",
    "            file_name = split_file[3]\n",
    "        \n",
    "            with Image.open(file_path) as img:\n",
    "            \n",
    "                # Convert grayscale images to RGB\n",
    "                if img.mode == 'L':\n",
    "                    img = img.convert('RGB')\n",
    "            \n",
    "                img_tensor = resnet_transform(img)\n",
    "            \n",
    "            data_and_labels.append((img_tensor, class_dict[class_wnid]))\n",
    "        \n",
    "        self.data = data_and_labels\n",
    "        self.transform = transform\n",
    "        \n",
    "    def __len__(self):\n",
    "        return len(self.data)\n",
    "    \n",
    "    def __getitem__(self, idx):\n",
    "        sample = self.data[idx][0]\n",
    "        target = self.data[idx][1]\n",
    "        \n",
    "        return sample, target"
   ]
  },
  {
   "cell_type": "code",
   "execution_count": 15,
   "id": "a40fc404",
   "metadata": {},
   "outputs": [],
   "source": [
    "data = FineTuningDataset(stage1_files)"
   ]
  },
  {
   "cell_type": "code",
   "execution_count": 16,
   "id": "c20e2779",
   "metadata": {},
   "outputs": [],
   "source": [
    "# X = [tup[0] for tup in data]\n",
    "# y = [tup[1] for tup in data]"
   ]
  },
  {
   "cell_type": "code",
   "execution_count": 17,
   "id": "1654fae5",
   "metadata": {},
   "outputs": [],
   "source": [
    "train_data, test_data = train_test_split(data, test_size=0.2, random_state=42)"
   ]
  },
  {
   "cell_type": "code",
   "execution_count": 18,
   "id": "f74ed7b7",
   "metadata": {},
   "outputs": [],
   "source": [
    "criterion = nn.CrossEntropyLoss()\n",
    "optimizer = optim.Adam(resnet.fc.parameters(), lr=0.001)\n",
    "num_epochs = 5\n",
    "batch_size = 128"
   ]
  },
  {
   "cell_type": "code",
   "execution_count": 19,
   "id": "e11817c7",
   "metadata": {},
   "outputs": [],
   "source": [
    "train_loader = DataLoader(train_data, batch_size=batch_size, shuffle=True)\n",
    "test_loader = DataLoader(test_data, batch_size=batch_size, shuffle=False)"
   ]
  },
  {
   "cell_type": "code",
   "execution_count": 20,
   "id": "16eac247",
   "metadata": {},
   "outputs": [],
   "source": [
    "def fine_tune(model=None, train_loader=None, loss_func=None):\n",
    "    running_loss = 0.0\n",
    "    model = model.to(device)\n",
    "        \n",
    "    for epoch in range(1, num_epochs+1):\n",
    "        train_correct = 0\n",
    "        train_total = 0\n",
    "        for step, (images, labels) in enumerate(train_loader):\n",
    "            model.train()   # set the model in training mode\n",
    "                \n",
    "            images = images.to(device) # move images and labels to GPU\n",
    "            labels = labels.to(device)\n",
    "                \n",
    "            optimizer.zero_grad() # Zero out gradients from last backprop\n",
    "                \n",
    "            outputs = model(images) # Pass images through the model\n",
    "            _, predicted = torch.max(outputs.data, 1) # Obtain indices of predictions\n",
    "                \n",
    "            train_loss = loss_func(outputs, labels) # Get the loss and backpropogate it\n",
    "            train_loss.backward()\n",
    "                \n",
    "            # Get some metrics\n",
    "            running_loss += train_loss\n",
    "            train_total += labels.size(0)\n",
    "            train_correct += (predicted == labels).sum()\n",
    "            train_accuracy = 100 * (train_correct/train_total)\n",
    "                \n",
    "            if step % 5 == 0:\n",
    "                test_acc, test_loss = test(model=model, test_loader=test_loader, loss_func=loss_func)\n",
    "                print(f\"Epoch: {epoch}, Step: {step}\")\n",
    "                print(f\"\\tTrain Loss: {running_loss}, Train Accuracy: {train_accuracy}\")\n",
    "                print(f\"\\tTest Loss: {test_loss}, Test Accuracy: {test_acc}\")\n",
    "                print()\n",
    "                \n",
    "            optimizer.step()\n",
    "                "
   ]
  },
  {
   "cell_type": "code",
   "execution_count": 21,
   "id": "d96ee357",
   "metadata": {},
   "outputs": [],
   "source": [
    "def test(model=None, test_loader=None, loss_func=None):\n",
    "    total = 0\n",
    "    correct = 0\n",
    "    \n",
    "    model = model.to(device)\n",
    "    model.eval()\n",
    "    with torch.no_grad():\n",
    "        total_loss = 0\n",
    "        for images, labels in test_loader:\n",
    "            images = images.to(device)\n",
    "            labels = labels.to(device)\n",
    "            \n",
    "            outputs = model(images)\n",
    "            _, predicted = torch.max(outputs.data, 1)\n",
    "            \n",
    "            test_loss = loss_func(outputs, labels)\n",
    "            total_loss += test_loss\n",
    "            \n",
    "            # Increment total number of observations seen by\n",
    "            # number of items in this batch\n",
    "            total += labels.size(0)\n",
    "\n",
    "            # Increment total number of correct predictions by\n",
    "            # number of correct predictions in this batch\n",
    "            correct += (predicted == labels).sum()\n",
    "            \n",
    "        accuracy = (100 * (correct/total))\n",
    "        accuracy = accuracy.item()\n",
    "        return accuracy, total_loss"
   ]
  },
  {
   "cell_type": "code",
   "execution_count": 22,
   "id": "d12ba296",
   "metadata": {
    "scrolled": false
   },
   "outputs": [
    {
     "name": "stdout",
     "output_type": "stream",
     "text": [
      "Epoch: 1, Step: 0\n",
      "\tTrain Loss: 2.31706166267395, Train Accuracy: 7.8125\n",
      "\tTest Loss: 18.502277374267578, Test Accuracy: 9.800000190734863\n",
      "\n",
      "Epoch: 1, Step: 5\n",
      "\tTrain Loss: 12.874119758605957, Train Accuracy: 32.29166793823242\n",
      "\tTest Loss: 15.972604751586914, Test Accuracy: 72.20000457763672\n",
      "\n",
      "Epoch: 1, Step: 10\n",
      "\tTrain Loss: 21.811880111694336, Train Accuracy: 49.6448860168457\n",
      "\tTest Loss: 13.73090934753418, Test Accuracy: 84.20000457763672\n",
      "\n",
      "Epoch: 1, Step: 15\n",
      "\tTrain Loss: 29.44611167907715, Train Accuracy: 60.05859375\n",
      "\tTest Loss: 11.795415878295898, Test Accuracy: 82.40000915527344\n",
      "\n",
      "Epoch: 1, Step: 20\n",
      "\tTrain Loss: 36.14230728149414, Train Accuracy: 65.51339721679688\n",
      "\tTest Loss: 10.14974594116211, Test Accuracy: 86.20000457763672\n",
      "\n",
      "Epoch: 1, Step: 25\n",
      "\tTrain Loss: 41.83232879638672, Train Accuracy: 69.80168914794922\n",
      "\tTest Loss: 8.711326599121094, Test Accuracy: 87.80000305175781\n",
      "\n",
      "Epoch: 1, Step: 30\n",
      "\tTrain Loss: 46.61526870727539, Train Accuracy: 72.93346405029297\n",
      "\tTest Loss: 7.5586161613464355, Test Accuracy: 88.30000305175781\n",
      "\n",
      "Epoch: 2, Step: 0\n",
      "\tTrain Loss: 48.487091064453125, Train Accuracy: 89.84375\n",
      "\tTest Loss: 7.200440406799316, Test Accuracy: 89.00000762939453\n",
      "\n",
      "Epoch: 2, Step: 5\n",
      "\tTrain Loss: 52.461334228515625, Train Accuracy: 90.36458587646484\n",
      "\tTest Loss: 6.353221416473389, Test Accuracy: 89.50000762939453\n",
      "\n",
      "Epoch: 2, Step: 10\n",
      "\tTrain Loss: 56.19222640991211, Train Accuracy: 90.34091186523438\n",
      "\tTest Loss: 5.725322723388672, Test Accuracy: 89.80000305175781\n",
      "\n",
      "Epoch: 2, Step: 15\n",
      "\tTrain Loss: 59.4625358581543, Train Accuracy: 90.625\n",
      "\tTest Loss: 5.146517276763916, Test Accuracy: 91.0\n",
      "\n",
      "Epoch: 2, Step: 20\n",
      "\tTrain Loss: 62.51069259643555, Train Accuracy: 90.88542175292969\n",
      "\tTest Loss: 4.745090961456299, Test Accuracy: 91.20000457763672\n",
      "\n",
      "Epoch: 2, Step: 25\n",
      "\tTrain Loss: 65.37312316894531, Train Accuracy: 90.7752456665039\n",
      "\tTest Loss: 4.376335144042969, Test Accuracy: 91.10000610351562\n",
      "\n",
      "Epoch: 2, Step: 30\n",
      "\tTrain Loss: 67.96564483642578, Train Accuracy: 91.00302124023438\n",
      "\tTest Loss: 4.105335712432861, Test Accuracy: 91.60000610351562\n",
      "\n",
      "Epoch: 3, Step: 0\n",
      "\tTrain Loss: 69.25373077392578, Train Accuracy: 91.40625\n",
      "\tTest Loss: 4.008853912353516, Test Accuracy: 91.80000305175781\n",
      "\n",
      "Epoch: 3, Step: 5\n",
      "\tTrain Loss: 71.50415802001953, Train Accuracy: 94.01042175292969\n",
      "\tTest Loss: 3.790179491043091, Test Accuracy: 92.0\n",
      "\n",
      "Epoch: 3, Step: 10\n",
      "\tTrain Loss: 73.83901977539062, Train Accuracy: 93.32386779785156\n",
      "\tTest Loss: 3.6410269737243652, Test Accuracy: 92.50000762939453\n",
      "\n",
      "Epoch: 3, Step: 15\n",
      "\tTrain Loss: 75.7730941772461, Train Accuracy: 93.75\n",
      "\tTest Loss: 3.4732987880706787, Test Accuracy: 92.20000457763672\n",
      "\n",
      "Epoch: 3, Step: 20\n",
      "\tTrain Loss: 77.82453918457031, Train Accuracy: 93.26636505126953\n",
      "\tTest Loss: 3.3232216835021973, Test Accuracy: 92.30000305175781\n",
      "\n",
      "Epoch: 3, Step: 25\n",
      "\tTrain Loss: 79.80806732177734, Train Accuracy: 93.23918914794922\n",
      "\tTest Loss: 3.2028801441192627, Test Accuracy: 91.70000457763672\n",
      "\n",
      "Epoch: 3, Step: 30\n",
      "\tTrain Loss: 81.95498657226562, Train Accuracy: 93.19556427001953\n",
      "\tTest Loss: 3.085951328277588, Test Accuracy: 92.9000015258789\n",
      "\n",
      "Epoch: 4, Step: 0\n",
      "\tTrain Loss: 82.6239013671875, Train Accuracy: 92.96875\n",
      "\tTest Loss: 3.0573248863220215, Test Accuracy: 92.50000762939453\n",
      "\n",
      "Epoch: 4, Step: 5\n",
      "\tTrain Loss: 84.48712921142578, Train Accuracy: 94.01042175292969\n",
      "\tTest Loss: 2.9763340950012207, Test Accuracy: 92.70000457763672\n",
      "\n",
      "Epoch: 4, Step: 10\n",
      "\tTrain Loss: 86.0976333618164, Train Accuracy: 94.4602279663086\n",
      "\tTest Loss: 2.9106686115264893, Test Accuracy: 92.60000610351562\n",
      "\n",
      "Epoch: 4, Step: 15\n",
      "\tTrain Loss: 87.71088409423828, Train Accuracy: 94.287109375\n",
      "\tTest Loss: 2.8184590339660645, Test Accuracy: 92.70000457763672\n",
      "\n",
      "Epoch: 4, Step: 20\n",
      "\tTrain Loss: 89.34843444824219, Train Accuracy: 93.97321319580078\n",
      "\tTest Loss: 2.7013802528381348, Test Accuracy: 93.00000762939453\n",
      "\n",
      "Epoch: 4, Step: 25\n",
      "\tTrain Loss: 90.92984771728516, Train Accuracy: 93.93029022216797\n",
      "\tTest Loss: 2.629911184310913, Test Accuracy: 93.4000015258789\n",
      "\n",
      "Epoch: 4, Step: 30\n",
      "\tTrain Loss: 92.55320739746094, Train Accuracy: 93.69959259033203\n",
      "\tTest Loss: 2.596973180770874, Test Accuracy: 92.80000305175781\n",
      "\n",
      "Epoch: 5, Step: 0\n",
      "\tTrain Loss: 93.29735565185547, Train Accuracy: 93.75\n",
      "\tTest Loss: 2.557018756866455, Test Accuracy: 92.80000305175781\n",
      "\n",
      "Epoch: 5, Step: 5\n",
      "\tTrain Loss: 94.789794921875, Train Accuracy: 92.83854675292969\n",
      "\tTest Loss: 2.506568670272827, Test Accuracy: 92.80000305175781\n",
      "\n",
      "Epoch: 5, Step: 10\n",
      "\tTrain Loss: 96.36454010009766, Train Accuracy: 93.18181610107422\n",
      "\tTest Loss: 2.4470317363739014, Test Accuracy: 93.20000457763672\n",
      "\n",
      "Epoch: 5, Step: 15\n",
      "\tTrain Loss: 97.57463073730469, Train Accuracy: 94.04296875\n",
      "\tTest Loss: 2.431797981262207, Test Accuracy: 93.4000015258789\n",
      "\n",
      "Epoch: 5, Step: 20\n",
      "\tTrain Loss: 99.04452514648438, Train Accuracy: 94.08482360839844\n",
      "\tTest Loss: 2.4002225399017334, Test Accuracy: 93.10000610351562\n",
      "\n",
      "Epoch: 5, Step: 25\n",
      "\tTrain Loss: 100.2829818725586, Train Accuracy: 94.41106414794922\n",
      "\tTest Loss: 2.3639841079711914, Test Accuracy: 93.60000610351562\n",
      "\n",
      "Epoch: 5, Step: 30\n",
      "\tTrain Loss: 101.79641723632812, Train Accuracy: 94.38003540039062\n",
      "\tTest Loss: 2.3277909755706787, Test Accuracy: 93.4000015258789\n",
      "\n"
     ]
    }
   ],
   "source": [
    "fine_tune(model=resnet, train_loader=train_loader, loss_func=criterion)"
   ]
  },
  {
   "cell_type": "markdown",
   "id": "15055b9a",
   "metadata": {},
   "source": [
    "### Test model on test data and get accuracy"
   ]
  },
  {
   "cell_type": "code",
   "execution_count": 23,
   "id": "5e9cf9c6",
   "metadata": {},
   "outputs": [],
   "source": [
    "accuracy, test_loss = test(model=resnet, test_loader=test_loader, loss_func=criterion)"
   ]
  },
  {
   "cell_type": "code",
   "execution_count": 24,
   "id": "53700551",
   "metadata": {},
   "outputs": [
    {
     "data": {
      "text/plain": [
       "93.50000762939453"
      ]
     },
     "execution_count": 24,
     "metadata": {},
     "output_type": "execute_result"
    }
   ],
   "source": [
    "accuracy"
   ]
  },
  {
   "cell_type": "markdown",
   "id": "0e9bb526",
   "metadata": {},
   "source": [
    "### Now establish a hook where if you turn the first _X_ feature maps off (to all 0s), then get its accuracy"
   ]
  },
  {
   "cell_type": "code",
   "execution_count": 25,
   "id": "9d449f1b",
   "metadata": {},
   "outputs": [],
   "source": [
    "x = [0, 1, 2, 3, 4, 5, 6, 7, 8, 9, 10, 11, 12, 13, 14, 15]\n",
    "y = []\n",
    "for num in x:\n",
    "    def modify_maxpool_output(module, input, output):\n",
    "        modified_output = output.clone()\n",
    "        modified_output[:, :num, :, :] = 0\n",
    "        return modified_output\n",
    "\n",
    "    hook = resnet.maxpool.register_forward_hook(modify_maxpool_output)\n",
    "    accuracy, test_loss = test(model=resnet, test_loader=test_loader, loss_func=criterion)\n",
    "    hook.remove()\n",
    "    y.append(accuracy)"
   ]
  },
  {
   "cell_type": "code",
   "execution_count": 26,
   "id": "cc85e0c5",
   "metadata": {},
   "outputs": [
    {
     "data": {
      "image/png": "[encoded data removed]",
      "text/plain": [
       "<Figure size 432x288 with 1 Axes>"
      ]
     },
     "metadata": {
      "needs_background": "light"
     },
     "output_type": "display_data"
    }
   ],
   "source": [
    "plt.plot(x, y)\n",
    "plt.scatter(x, y)\n",
    "plt.xlabel(\"Number of feature maps turned off\", fontsize=15)\n",
    "plt.ylabel(\"Testing accuracy\", fontsize=15)\n",
    "plt.title(\"Change in accuracy as feature maps are removed\", fontsize=15)\n",
    "plt.show()"
   ]
  },
  {
   "cell_type": "markdown",
   "id": "2e011ff2",
   "metadata": {},
   "source": [
    "### Modify output feature maps from the end of stage 1"
   ]
  },
  {
   "cell_type": "code",
   "execution_count": 34,
   "id": "00bbc7c0",
   "metadata": {},
   "outputs": [],
   "source": [
    "x = [0, 4, 8, 12, 16, 20, 24, 28, 32, 36, 40, 44, 48, 52, 56, 60, 64]\n",
    "y = []\n",
    "for num in x:\n",
    "    def modify_layer1_output(module, input, output):\n",
    "        modified_output = output.clone()\n",
    "        modified_output[:, :num, :, :] = 0\n",
    "        return modified_output\n",
    "\n",
    "    hook = resnet.layer1[-1].register_forward_hook(modify_layer1_output)\n",
    "    accuracy, test_loss = test(model=resnet, test_loader=test_loader, loss_func=criterion)\n",
    "    hook.remove()\n",
    "    y.append(accuracy)"
   ]
  },
  {
   "cell_type": "code",
   "execution_count": 35,
   "id": "8d01f39c",
   "metadata": {},
   "outputs": [
    {
     "data": {
      "image/png": "[encoded data removed]",
      "text/plain": [
       "<Figure size 432x288 with 1 Axes>"
      ]
     },
     "metadata": {
      "needs_background": "light"
     },
     "output_type": "display_data"
    }
   ],
   "source": [
    "plt.plot(x, y)\n",
    "plt.scatter(x, y)\n",
    "plt.xlabel(\"Number of feature maps turned off\", fontsize=15)\n",
    "plt.ylabel(\"Testing accuracy\", fontsize=15)\n",
    "plt.title(\"Change in accuracy as feature maps are removed from output of stage 1\", fontsize=12)\n",
    "plt.show()"
   ]
  },
  {
   "cell_type": "code",
   "execution_count": 29,
   "id": "af70f921",
   "metadata": {},
   "outputs": [
    {
     "name": "stdout",
     "output_type": "stream",
     "text": [
      "[93.50000762939453, 93.50000762939453, 92.60000610351562, 92.70000457763672, 91.70000457763672, 91.9000015258789, 91.80000305175781, 91.70000457763672, 91.9000015258789, 91.70000457763672, 91.4000015258789, 91.20000457763672, 91.9000015258789, 91.70000457763672, 91.80000305175781, 91.0]\n"
     ]
    }
   ],
   "source": [
    "print(y)"
   ]
  },
  {
   "cell_type": "markdown",
   "id": "5c33f433",
   "metadata": {},
   "source": [
    "# Visualize said feature maps if you want"
   ]
  },
  {
   "cell_type": "code",
   "execution_count": 21,
   "id": "1dbc4165",
   "metadata": {},
   "outputs": [],
   "source": [
    "def plot_img(feature_maps):\n",
    "    print(feature_maps.shape[0])\n",
    "    num_filters = feature_maps.shape[0]\n",
    "    dim = int(math.sqrt(num_filters))\n",
    "\n",
    "    # Visualize the feature maps\n",
    "    fig, axarr = plt.subplots(dim, dim)  # Assuming 32 filters, adjust as needed\n",
    "    for i in range(num_filters):\n",
    "        ax = axarr[i // dim, i % dim]\n",
    "\n",
    "#         image_array = feature_maps[i].detach().cpu().numpy()\n",
    "        image_array = feature_maps[i]\n",
    "    \n",
    "        ax.imshow(image_array, cmap='viridis')\n",
    "        ax.axis('off')\n",
    "    plt.show()\n",
    "#     plt.savefig('CONV_rslt.png')"
   ]
  },
  {
   "cell_type": "code",
   "execution_count": null,
   "id": "309dc80b",
   "metadata": {},
   "outputs": [],
   "source": []
  }
 ],
 "metadata": {
  "kernelspec": {
   "display_name": "Python 3 (ipykernel)",
   "language": "python",
   "name": "python3"
  },
  "language_info": {
   "codemirror_mode": {
    "name": "ipython",
    "version": 3
   },
   "file_extension": ".py",
   "mimetype": "text/x-python",
   "name": "python",
   "nbconvert_exporter": "python",
   "pygments_lexer": "ipython3",
   "version": "3.10.4"
  }
 },
 "nbformat": 4,
 "nbformat_minor": 5
}
